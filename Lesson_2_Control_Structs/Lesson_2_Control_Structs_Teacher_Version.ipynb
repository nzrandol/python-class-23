{
 "cells": [
  {
   "cell_type": "markdown",
   "metadata": {
    "colab_type": "text",
    "id": "view-in-github"
   },
   "source": [
    "[![Open In Colab](https://colab.research.google.com/assets/colab-badge.svg)](https://colab.research.google.com/github/How-to-Learn-to-Code/python-class/blob/master/Lesson_2_Control_Structs/Lesson_2_Control_structs_teacher.ipynb)"
   ]
  },
  {
   "cell_type": "markdown",
   "metadata": {
    "colab_type": "text",
    "id": "T5WJjJnfpZWM"
   },
   "source": [
    "# Lesson 2 - Data Structures and Control Flows"
   ]
  },
  {
   "cell_type": "markdown",
   "metadata": {},
   "source": [
    "## Learning objectives: \n",
    "\n",
    "Students will learn about various data structures and how to control the flow of their code.\n",
    "\n",
    "* [Basic Data Structures: `list`, `tuple`, `set`, `dict`](#data_structs)\n",
    "* [In-Class Exercises: Part 1](#exercises1)\n",
    "* [Controlling Flow with `if`/`elif`/`else` Statments and `for`/`while` Loops](#control)\n",
    "* [In-Class Exercises: Part 2](#exercises2)\""
   ]
  },
  {
   "cell_type": "markdown",
   "metadata": {},
   "source": [
    "### Basic Data Structures: `list`, `tuple`, `set`, `dict` <a id='data_structs'></a>"
   ]
  },
  {
   "cell_type": "markdown",
   "metadata": {},
   "source": [
    "Data structures are simply structures/containers which hold some data together. In other words, they are used to store a collection of related data. These are particularly helpful when working with experimental data sets. There are four built-in data structures in Python: `list`, `tuple`, `set`, and `dict`. In this lesson, we will learn about each data structures."
   ]
  },
  {
   "cell_type": "markdown",
   "metadata": {
    "colab_type": "text",
    "id": "2mcXMmme9jbI"
   },
   "source": [
    "#### Lists\n",
    "\n",
    "A `list` is a data structure that holds an ordered collection of items, i.e. you can store a sequence of items. An easy-to-imagine example is a shopping list where you have a list of items to buy. In that list, however, you probably have each item on a separate line, whereas in Python, you put commas in between them, as you'll soon see.\n",
    "\n",
    "Here are important properties of lists:\n",
    "\n",
    "* Lists remember the order of items inserted (i.e. lists are **ordered**).\n",
    "* Items in a list can be accessed using an index.\n",
    "* Lists can contain any sort of object. For instance, there can be numbers, strings, tuples, and even other lists.\n",
    "* You can change a list in-place, add new items, and delete or update existing items (i.e. lists are **mutable**)."
   ]
  },
  {
   "cell_type": "markdown",
   "metadata": {},
   "source": [
    "Let's create a list containing five different genes: *EGFR, KRAS, MYC, RB,* and *TP53*. In Python, a `list` is created by placing elements inside square brackets `[]`, separated by commas:"
   ]
  },
  {
   "cell_type": "code",
   "execution_count": 1,
   "metadata": {
    "colab": {},
    "colab_type": "code",
    "id": "jlcZE-UfpPmZ"
   },
   "outputs": [
    {
     "name": "stdout",
     "output_type": "stream",
     "text": [
      "['EGFR', 'KRAS', 'MYC', 'RB', 'TP53']\n"
     ]
    }
   ],
   "source": [
    "gene_list = ['EGFR', 'KRAS', 'MYC', 'RB', 'TP53']\n",
    "print(gene_list)"
   ]
  },
  {
   "cell_type": "markdown",
   "metadata": {},
   "source": [
    "We can access items in a `list` using indexing operations. In Python, indices start at 0."
   ]
  },
  {
   "cell_type": "markdown",
   "metadata": {},
   "source": [
    "![indexing](https://cdn.programiz.com/sites/tutorial2program/files/python-list-index.png)"
   ]
  },
  {
   "cell_type": "markdown",
   "metadata": {},
   "source": [
    "Let's try to access the second gene in our `gene_list`:"
   ]
  },
  {
   "cell_type": "code",
   "execution_count": 2,
   "metadata": {},
   "outputs": [
    {
     "data": {
      "text/plain": [
       "'KRAS'"
      ]
     },
     "execution_count": 2,
     "metadata": {},
     "output_type": "execute_result"
    }
   ],
   "source": [
    "gene_list[1]"
   ]
  },
  {
   "cell_type": "markdown",
   "metadata": {},
   "source": [
    "Python also has 'negative indices' which can be very convenient when we want to access last i-th item. For instance, the last item in the list can be accessed with index of -1. Let's try to access the second to last item in `gene_list`:"
   ]
  },
  {
   "cell_type": "code",
   "execution_count": 3,
   "metadata": {},
   "outputs": [
    {
     "data": {
      "text/plain": [
       "'RB'"
      ]
     },
     "execution_count": 3,
     "metadata": {},
     "output_type": "execute_result"
    }
   ],
   "source": [
    "gene_list[-2]"
   ]
  },
  {
   "cell_type": "markdown",
   "metadata": {},
   "source": [
    "We can also access a range (or **slice**) of items in a list using the slicing operator `:`. Let's try to access the first three items in `gene_list`. Note that the start index is *inclusive*, but end index is *exclusive*. We will see later when this can be useful."
   ]
  },
  {
   "cell_type": "code",
   "execution_count": 4,
   "metadata": {},
   "outputs": [
    {
     "name": "stdout",
     "output_type": "stream",
     "text": [
      "['EGFR', 'KRAS', 'MYC']\n",
      "['EGFR', 'KRAS', 'MYC']\n",
      "['EGFR', 'KRAS', 'MYC']\n"
     ]
    }
   ],
   "source": [
    "# Print the first three items\n",
    "print(gene_list[0:3])\n",
    "\n",
    "# If starting from the beginning of the list, the starting index can be omitted\n",
    "print(gene_list[:3])\n",
    "\n",
    "# Equivalently\n",
    "# Notice that the starting index is included, but the ending index is not\n",
    "print([gene_list[0], gene_list[1], gene_list[2]])"
   ]
  },
  {
   "cell_type": "markdown",
   "metadata": {},
   "source": [
    "What should we do if we want to access the last three items?"
   ]
  },
  {
   "cell_type": "code",
   "execution_count": 5,
   "metadata": {},
   "outputs": [
    {
     "name": "stdout",
     "output_type": "stream",
     "text": [
      "['MYC', 'RB', 'TP53']\n",
      "['MYC', 'RB', 'TP53']\n"
     ]
    }
   ],
   "source": [
    "# Print the last three items\n",
    "# Notice that when going to the end of the list, the ending index is omitted\n",
    "print(gene_list[-3:])\n",
    "\n",
    "# Equivalently\n",
    "print([gene_list[-3], gene_list[-2], gene_list[-1]])"
   ]
  },
  {
   "cell_type": "markdown",
   "metadata": {},
   "source": [
    "Now suppose, we are interested in a new cancer gene *PTEN* and want to add this to our gene list. How should we do this? There are a few ways to do this, but one of the simplest is using a `list` method called `append()`: "
   ]
  },
  {
   "cell_type": "code",
   "execution_count": 6,
   "metadata": {},
   "outputs": [
    {
     "data": {
      "text/plain": [
       "['EGFR', 'KRAS', 'MYC', 'RB', 'TP53', 'PTEN']"
      ]
     },
     "execution_count": 6,
     "metadata": {},
     "output_type": "execute_result"
    }
   ],
   "source": [
    "gene_list.append('PTEN')\n",
    "gene_list"
   ]
  },
  {
   "cell_type": "markdown",
   "metadata": {},
   "source": [
    "Oops! Suppose, we wanted add *BRAF* instead of *PTEN*! What should we do? Since lists are **mutable**, we can replace *PTEN* with *BRAF*:"
   ]
  },
  {
   "cell_type": "code",
   "execution_count": 7,
   "metadata": {},
   "outputs": [
    {
     "data": {
      "text/plain": [
       "['EGFR', 'KRAS', 'MYC', 'RB', 'TP53', 'BRAF']"
      ]
     },
     "execution_count": 7,
     "metadata": {},
     "output_type": "execute_result"
    }
   ],
   "source": [
    "gene_list[-1] = 'BRAF'\n",
    "gene_list"
   ]
  },
  {
   "cell_type": "markdown",
   "metadata": {},
   "source": [
    "There are other useful `list` methods that we can use to alter and describe lists, including:\n",
    "\n",
    "- `list.append(x)`: Add an item `x` to the end of the list.\n",
    "- `list.remove(x)`: Remove the first item in the list whose value is equal to `x`. \n",
    "- `list.count(x)`: Return the number of times `x` appears in the list.\n",
    "\n",
    "Some useful functions for lists include:\n",
    "- `reversed(l)`: Reverse the order of items in list `l` and return the new list.\n",
    "- `sorted(l)`: Sort the order of values in list `l` (default is in ascending order) and return the new list.\n",
    "- `len(l)`: Return the length of list `l`."
   ]
  },
  {
   "cell_type": "markdown",
   "metadata": {},
   "source": [
    "#### Tuples\n",
    "\n",
    "Tuples, like lists, are ordered collection of items, but they have one major difference. Tuples are **immutable**, meaning that we cannot change, add, or remove items after they are created. We can create a `tuple` by placing comma-seperated values inside `()`."
   ]
  },
  {
   "cell_type": "code",
   "execution_count": 8,
   "metadata": {},
   "outputs": [
    {
     "name": "stdout",
     "output_type": "stream",
     "text": [
      "('EGFR', 'KRAS', 'MYC', 'RB', 'TP53')\n"
     ]
    }
   ],
   "source": [
    "gene_tuple = ('EGFR', 'KRAS', 'MYC', 'RB', 'TP53')\n",
    "print(gene_tuple)"
   ]
  },
  {
   "cell_type": "markdown",
   "metadata": {},
   "source": [
    "Similarly to lists, we can use indexing and slicing to access items:"
   ]
  },
  {
   "cell_type": "code",
   "execution_count": 9,
   "metadata": {},
   "outputs": [
    {
     "name": "stdout",
     "output_type": "stream",
     "text": [
      "MYC\n",
      "('RB', 'TP53')\n"
     ]
    }
   ],
   "source": [
    "# Access the third item\n",
    "print(gene_tuple[2])\n",
    "\n",
    "# Access the last two items\n",
    "print(gene_tuple[-2:])"
   ]
  },
  {
   "cell_type": "markdown",
   "metadata": {},
   "source": [
    "Can we replace *KRAS* with *NRAS* in our `gene_tuple`?"
   ]
  },
  {
   "cell_type": "code",
   "execution_count": 10,
   "metadata": {},
   "outputs": [
    {
     "ename": "TypeError",
     "evalue": "'tuple' object does not support item assignment",
     "output_type": "error",
     "traceback": [
      "\u001b[0;31m---------------------------------------------------------------------------\u001b[0m",
      "\u001b[0;31mTypeError\u001b[0m                                 Traceback (most recent call last)",
      "Cell \u001b[0;32mIn[10], line 1\u001b[0m\n\u001b[0;32m----> 1\u001b[0m \u001b[43mgene_tuple\u001b[49m\u001b[43m[\u001b[49m\u001b[38;5;241;43m1\u001b[39;49m\u001b[43m]\u001b[49m \u001b[38;5;241m=\u001b[39m \u001b[38;5;124m'\u001b[39m\u001b[38;5;124mNRAS\u001b[39m\u001b[38;5;124m'\u001b[39m\n",
      "\u001b[0;31mTypeError\u001b[0m: 'tuple' object does not support item assignment"
     ]
    }
   ],
   "source": [
    "gene_tuple[1] = 'NRAS'"
   ]
  },
  {
   "cell_type": "markdown",
   "metadata": {},
   "source": [
    "This raises error because tuples are **immutable**."
   ]
  },
  {
   "cell_type": "markdown",
   "metadata": {},
   "source": [
    "#### Sets\n",
    "\n",
    "A Python `set` is an unordered collection of unique items. \n",
    "\n",
    "The important properties of sets are:\n",
    "\n",
    "- Items stored in a `set` aren’t kept in any particular order (i.e. sets are **unordered**).\n",
    "- Items in a `set` are unique – duplicate items are not allowed.\n",
    "- Because sets are **unordered**, `set` items cannot be referred to by an index.\n",
    "- Sets are changeable (i.e. **mutable**).\n",
    "\n",
    "Sets can be created by placing items comma-seperated values inside `{}`"
   ]
  },
  {
   "cell_type": "markdown",
   "metadata": {},
   "source": [
    "Sets are commonly used for computing mathematical operations such as union, intersection, difference, and symmetric difference.\n",
    "\n",
    "![set operations](https://www.learnbyexample.org/wp-content/uploads/python/Python-Set-Operatioons.png)"
   ]
  },
  {
   "cell_type": "markdown",
   "metadata": {},
   "source": [
    "Suppose we have tissue data from two patients, with some genes being upregulated in tumor tissues compared to normal tissues. We would like to know if there are any shared upregulated genes between the patients."
   ]
  },
  {
   "cell_type": "code",
   "execution_count": 11,
   "metadata": {},
   "outputs": [],
   "source": [
    "patient1 = {'ABCC1', 'BRCA1', 'BRCA2', 'HER2'}\n",
    "patient2 = {'BRCA1', 'HER2', 'ERCC1'}"
   ]
  },
  {
   "cell_type": "code",
   "execution_count": 12,
   "metadata": {},
   "outputs": [
    {
     "name": "stdout",
     "output_type": "stream",
     "text": [
      "{'HER2', 'BRCA1'}\n",
      "{'HER2', 'BRCA1'}\n"
     ]
    }
   ],
   "source": [
    "# Intersection of the two sets using the intersection method\n",
    "print(patient1.intersection(patient2))\n",
    "\n",
    "# Equivalently, we can use the & operator\n",
    "print(patient1 & patient2)"
   ]
  },
  {
   "cell_type": "markdown",
   "metadata": {
    "colab_type": "text",
    "id": "sbLhhtDPBw_M"
   },
   "source": [
    "#### Dictionaries\n",
    "\n",
    "A dictionary (`dict`) is like an address book, where you can find the address of a person by knowing only their name. That is, we associate keys (names) with values (addresses). Note that the key must be unique: you cannot find the correct address if two people have the exact same name. Also, you can use only immutable objects (like strings) for the keys of a dictionary, but you can use either immutable or mutable objects for the values. Note, dictionaries themselves are considered mutable.\n",
    "\n",
    "Pairs of keys and values are specified in a `dict` by using the notation `dict = {key1: value1, key2: value2}`. Notice that the key-value pairs are separated by a colon, the pairs themselves are separated by commas, and all this is enclosed in a pair of curly braces `{}`."
   ]
  },
  {
   "cell_type": "markdown",
   "metadata": {},
   "source": [
    "Suppose we wanted to keep track of the ages of patients in a clinical trial:"
   ]
  },
  {
   "cell_type": "code",
   "execution_count": 13,
   "metadata": {
    "colab": {},
    "colab_type": "code",
    "id": "PL68GxZAFKit"
   },
   "outputs": [
    {
     "name": "stdout",
     "output_type": "stream",
     "text": [
      "{'Karen P.': 53, 'Jessica M.': 47, 'David G.': 45, 'Susan K.': 57, 'Eric O.': 50}\n"
     ]
    }
   ],
   "source": [
    "ages_dict = {'Karen P.': 53, 'Jessica M.': 47, 'David G.': 45, 'Susan K.': 57, 'Eric O.': 50}\n",
    "print(ages_dict)"
   ]
  },
  {
   "cell_type": "markdown",
   "metadata": {},
   "source": [
    "We can access a person's age (value) using their name (key). Let's find out Eric O.'s age:"
   ]
  },
  {
   "cell_type": "code",
   "execution_count": 14,
   "metadata": {},
   "outputs": [
    {
     "data": {
      "text/plain": [
       "50"
      ]
     },
     "execution_count": 14,
     "metadata": {},
     "output_type": "execute_result"
    }
   ],
   "source": [
    "ages_dict['Eric O.']"
   ]
  },
  {
   "cell_type": "markdown",
   "metadata": {},
   "source": [
    "Suppose new patient is enrolled into the clinical trial. Her name is Hannah H., and her age is 39. We can add a new item to the dictionary:"
   ]
  },
  {
   "cell_type": "code",
   "execution_count": 15,
   "metadata": {},
   "outputs": [
    {
     "name": "stdout",
     "output_type": "stream",
     "text": [
      "{'Karen P.': 53, 'Jessica M.': 47, 'David G.': 45, 'Susan K.': 57, 'Eric O.': 50, 'Hannah H.': 39}\n"
     ]
    }
   ],
   "source": [
    "ages_dict['Hannah H.'] = 39\n",
    "print(ages_dict)"
   ]
  },
  {
   "cell_type": "markdown",
   "metadata": {
    "colab_type": "text",
    "id": "hOggiwzmMm1Z"
   },
   "source": [
    "### In-Class Exercises: Part 1 <a id='exercises1'></a>"
   ]
  },
  {
   "cell_type": "markdown",
   "metadata": {},
   "source": [
    "The following exercises will help you better understand data structures."
   ]
  },
  {
   "cell_type": "markdown",
   "metadata": {},
   "source": [
    "1. Make a list named `num_list` that contains the following numbers 1, 4, 25, 7, 9, 12, 15, 16, and 21."
   ]
  },
  {
   "cell_type": "code",
   "execution_count": 16,
   "metadata": {},
   "outputs": [],
   "source": [
    "num_list = [1, 4, 25, 7, 9, 12, 15, 16, 21]"
   ]
  },
  {
   "cell_type": "markdown",
   "metadata": {},
   "source": [
    "2. Find the following information about `num_list`: length, minimum value, and maximum value. (You may need to search to find functions that can help you.)"
   ]
  },
  {
   "cell_type": "code",
   "execution_count": 17,
   "metadata": {},
   "outputs": [
    {
     "data": {
      "text/plain": [
       "9"
      ]
     },
     "execution_count": 17,
     "metadata": {},
     "output_type": "execute_result"
    }
   ],
   "source": [
    "# Length\n",
    "len(num_list)"
   ]
  },
  {
   "cell_type": "code",
   "execution_count": 18,
   "metadata": {},
   "outputs": [
    {
     "data": {
      "text/plain": [
       "1"
      ]
     },
     "execution_count": 18,
     "metadata": {},
     "output_type": "execute_result"
    }
   ],
   "source": [
    "# Minimum value\n",
    "min(num_list)"
   ]
  },
  {
   "cell_type": "code",
   "execution_count": 19,
   "metadata": {},
   "outputs": [
    {
     "data": {
      "text/plain": [
       "25"
      ]
     },
     "execution_count": 19,
     "metadata": {},
     "output_type": "execute_result"
    }
   ],
   "source": [
    "# Maximum value\n",
    "max(num_list)"
   ]
  },
  {
   "cell_type": "markdown",
   "metadata": {},
   "source": [
    "3. Make a dictionary named `med_dict` that contains the price of five medications.\n",
    ">* Lisinopril: $23.07\n",
    ">* Gabapentin: $86.27\n",
    ">* Sildenafil: $169.94 \n",
    ">* Amoxicillin: $17.76\n",
    ">* Prednisone: $13.81"
   ]
  },
  {
   "cell_type": "code",
   "execution_count": 20,
   "metadata": {},
   "outputs": [],
   "source": [
    "med_dict = {'Lisinopril': 23.07, 'Gabapentin': 86.27, 'Sildenafil': 169.94, 'Amoxicillin': 17.76, 'Prednisone': 13.81}"
   ]
  },
  {
   "cell_type": "markdown",
   "metadata": {},
   "source": [
    "4. Use `med_dict` to calculate how much it will cost if a patient is treated with both Lisinopril and Prednisone."
   ]
  },
  {
   "cell_type": "code",
   "execution_count": 21,
   "metadata": {},
   "outputs": [
    {
     "data": {
      "text/plain": [
       "36.88"
      ]
     },
     "execution_count": 21,
     "metadata": {},
     "output_type": "execute_result"
    }
   ],
   "source": [
    "med_dict['Lisinopril'] + med_dict['Prednisone']"
   ]
  },
  {
   "cell_type": "markdown",
   "metadata": {
    "colab": {},
    "colab_type": "code",
    "id": "jj1BdK9TiThp"
   },
   "source": [
    "### Controlling Flow with `if`/`elif`/`else` Statments and `for`/`while` Loops <a id='control'></a>"
   ]
  },
  {
   "cell_type": "markdown",
   "metadata": {},
   "source": [
    "#### `if`/`elif`/`else` Statements\n",
    "\n",
    "Control flow is required when we want to execute a piece of code only if a certain condition is satisfied.\n",
    "\n",
    "The `if`/`elif`/`else` statements are used in Python for this decision making. We can use these statments to execute a block of code only when specific conditions are true. Note that `elif` is an abbreviation for else if. These statements use the following syntax:\n",
    "\n",
    "```python\n",
    "if condition1:\n",
    "    statment1\n",
    "elif condition2:\n",
    "    statement2\n",
    "else:\n",
    "    statement3\n",
    "```"
   ]
  },
  {
   "cell_type": "markdown",
   "metadata": {},
   "source": [
    "![ifelse syntax](https://www.learnbyexample.org/wp-content/uploads/python/Python-elif-Statement-Syntax.png)"
   ]
  },
  {
   "cell_type": "markdown",
   "metadata": {},
   "source": [
    "Let's think about a clincal trial that is trying to find an appropriate dose. We first treat three patients with dose $x$. If no patients show toxic side effects, we'll increase the dose. If only one patient shows toxicity, we'll treat another three patients to learn more. If more than one patients show toxicity, we'll stop at that dose. Let's write these conditions in Python. You can change the value of `n_toxic` to see the different behaviors."
   ]
  },
  {
   "cell_type": "code",
   "execution_count": 22,
   "metadata": {},
   "outputs": [
    {
     "name": "stdout",
     "output_type": "stream",
     "text": [
      "Stop!\n"
     ]
    }
   ],
   "source": [
    "n_toxic = 2\n",
    "if n_toxic == 0:\n",
    "    print(\"Increase the dose.\")\n",
    "elif n_toxic == 1:\n",
    "    print(\"Treat another three patients.\")\n",
    "else:\n",
    "    print(\"Stop!\")"
   ]
  },
  {
   "cell_type": "markdown",
   "metadata": {},
   "source": [
    "#### Loops\n",
    "\n",
    "There are two types of loops in Python: `while` loops and `for` loops. Loops are useful when we want to perform the same task repetitively."
   ]
  },
  {
   "cell_type": "markdown",
   "metadata": {},
   "source": [
    "##### `while` Loop\n",
    "\n",
    "A `while` loop is used when you want to perform a task indefinitely until a particular condition is met. For instance, suppose we want to enroll new patients into a clinical trial until we have 30 patients total."
   ]
  },
  {
   "cell_type": "code",
   "execution_count": 23,
   "metadata": {},
   "outputs": [
    {
     "name": "stdout",
     "output_type": "stream",
     "text": [
      "Number of enrolled patients: 1\n",
      "Number of enrolled patients: 2\n",
      "Number of enrolled patients: 3\n",
      "Number of enrolled patients: 4\n",
      "Number of enrolled patients: 5\n",
      "Number of enrolled patients: 6\n",
      "Number of enrolled patients: 7\n",
      "Number of enrolled patients: 8\n",
      "Number of enrolled patients: 9\n",
      "Number of enrolled patients: 10\n",
      "Number of enrolled patients: 11\n",
      "Number of enrolled patients: 12\n",
      "Number of enrolled patients: 13\n",
      "Number of enrolled patients: 14\n",
      "Number of enrolled patients: 15\n",
      "Number of enrolled patients: 16\n",
      "Number of enrolled patients: 17\n",
      "Number of enrolled patients: 18\n",
      "Number of enrolled patients: 19\n",
      "Number of enrolled patients: 20\n",
      "Number of enrolled patients: 21\n",
      "Number of enrolled patients: 22\n",
      "Number of enrolled patients: 23\n",
      "Number of enrolled patients: 24\n",
      "Number of enrolled patients: 25\n",
      "Number of enrolled patients: 26\n",
      "Number of enrolled patients: 27\n",
      "Number of enrolled patients: 28\n",
      "Number of enrolled patients: 29\n",
      "Number of enrolled patients: 30\n"
     ]
    }
   ],
   "source": [
    "n_patients = 1\n",
    "while n_patients <= 30:\n",
    "    print(\"Number of enrolled patients:\", n_patients)\n",
    "    n_patients += 1"
   ]
  },
  {
   "cell_type": "markdown",
   "metadata": {},
   "source": [
    "What do you think will happen if we use `while True`?"
   ]
  },
  {
   "cell_type": "markdown",
   "metadata": {},
   "source": [
    "##### `for` Loop\n",
    "\n",
    "`for` loops are used for iterating over a sequence of objects, i.e. going through each item in a sequence. Objects that can be used in `for` loops include lists, tuples, dictonaries, sets, and strings. `for` loops have the following syntax:\n",
    "\n",
    "```python\n",
    "for var in iterable:\n",
    "    statement\n",
    "```\n"
   ]
  },
  {
   "cell_type": "markdown",
   "metadata": {},
   "source": [
    "Let's look at an example of a `for` loop:"
   ]
  },
  {
   "cell_type": "code",
   "execution_count": 24,
   "metadata": {},
   "outputs": [
    {
     "name": "stdout",
     "output_type": "stream",
     "text": [
      "0\n",
      "1\n",
      "2\n",
      "3\n",
      "4\n",
      "5\n"
     ]
    }
   ],
   "source": [
    "for i in [0, 1, 2, 3, 4, 5]:\n",
    "    print(i)"
   ]
  },
  {
   "cell_type": "markdown",
   "metadata": {},
   "source": [
    "We can also use the `range()` function to do the same thing. The `range()` function can take three parameters: starting value (default is 0), ending value, and step size (default is 1). Like slicing, the start value is inclusive but the end value is exclusive. Note that when an argument or parameter has a default value and you want to use that value, you don't need to explicitly include it."
   ]
  },
  {
   "cell_type": "code",
   "execution_count": 25,
   "metadata": {},
   "outputs": [
    {
     "name": "stdout",
     "output_type": "stream",
     "text": [
      "0\n",
      "1\n",
      "2\n",
      "3\n",
      "4\n",
      "5\n"
     ]
    }
   ],
   "source": [
    "for i in range(0, 6):\n",
    "    print(i)"
   ]
  },
  {
   "cell_type": "code",
   "execution_count": 26,
   "metadata": {},
   "outputs": [
    {
     "name": "stdout",
     "output_type": "stream",
     "text": [
      "0\n",
      "1\n",
      "2\n",
      "3\n",
      "4\n",
      "5\n"
     ]
    }
   ],
   "source": [
    "# The starting value can be omitted since there is a default value of 0.\n",
    "for i in range(6):\n",
    "    print(i)"
   ]
  },
  {
   "cell_type": "markdown",
   "metadata": {
    "tags": []
   },
   "source": [
    "### In-Class Exercises: Part 2 <a id='exercises2'></a>"
   ]
  },
  {
   "cell_type": "markdown",
   "metadata": {},
   "source": [
    "Before going into exercise, let's learn a handy operation `+=`:"
   ]
  },
  {
   "cell_type": "code",
   "execution_count": 27,
   "metadata": {},
   "outputs": [
    {
     "name": "stdout",
     "output_type": "stream",
     "text": [
      "1\n"
     ]
    }
   ],
   "source": [
    "a = 0\n",
    "a = a + 1\n",
    "print(a)"
   ]
  },
  {
   "cell_type": "markdown",
   "metadata": {},
   "source": [
    "is equivalent to "
   ]
  },
  {
   "cell_type": "code",
   "execution_count": 28,
   "metadata": {},
   "outputs": [
    {
     "name": "stdout",
     "output_type": "stream",
     "text": [
      "1\n"
     ]
    }
   ],
   "source": [
    "a = 0\n",
    "a += 1\n",
    "print(a)"
   ]
  },
  {
   "cell_type": "markdown",
   "metadata": {},
   "source": [
    "Note that similarly `-=`, `*=`, and `/=` exist!"
   ]
  },
  {
   "cell_type": "markdown",
   "metadata": {},
   "source": [
    "1. One of the most exciting parts about control flow is that they can be *nested* to make more complex algorithms. Let's try the complementary oligo sequence task that we discussed in Lesson 1. Solve this problem using `for` and `if`. For an added challenge, try making your answer even shorter with a `for` loop and dictionary.\n",
    "\n",
    "As a reminder, we want two new variables, `comp_oligo1` and `comp_oligo2`, that are the complementary DNA sequences of `oligo1` and `oligo2`. (Hint: A <-> T and G <-> C)"
   ]
  },
  {
   "cell_type": "code",
   "execution_count": 29,
   "metadata": {},
   "outputs": [],
   "source": [
    "# From Lesson 1\n",
    "oligo1 = 'GCGCTCAAT'\n",
    "oligo2 = 'TACTAGGCA'"
   ]
  },
  {
   "cell_type": "code",
   "execution_count": 30,
   "metadata": {},
   "outputs": [
    {
     "name": "stdout",
     "output_type": "stream",
     "text": [
      "CGCGAGTTA\n"
     ]
    }
   ],
   "source": [
    "# Using for and if\n",
    "comp_oligo1 = ''\n",
    "for nuc in oligo1:\n",
    "    if nuc == 'A':\n",
    "        comp_oligo1 += 'T'\n",
    "    elif nuc == 'T':\n",
    "        comp_oligo1 += 'A'\n",
    "    elif nuc == 'C':\n",
    "        comp_oligo1 += 'G'\n",
    "    else:\n",
    "        comp_oligo1 += 'C'\n",
    "print(comp_oligo1)"
   ]
  },
  {
   "cell_type": "code",
   "execution_count": 31,
   "metadata": {},
   "outputs": [
    {
     "name": "stdout",
     "output_type": "stream",
     "text": [
      "CGCGAGTTA\n"
     ]
    }
   ],
   "source": [
    "# Using for and dict\n",
    "comp_oligo1 = ''\n",
    "comp_dict = {'A': 'T', 'T': 'A', 'C': 'G', 'G': 'C'}\n",
    "for nuc in oligo1:\n",
    "    comp_oligo1 += comp_dict[nuc]\n",
    "print(comp_oligo1)"
   ]
  },
  {
   "cell_type": "markdown",
   "metadata": {},
   "source": [
    "2. Let's go back to the dose-finding clinical trials. We have a list of doses that we want to test: `dose_list = [1, 2, 3, 5, 8, 13]`. We want to increase the dose until we hit the maximal tolerated dose (MTD). For simplicity, we will increase the dose when less than two of the three patients have toxicity and stop otherwise. The last dose before at least two patients have toxicity will be declared the MTD. Suppose we already know how many patients will have toxicity at each dose: `tox_list = [0, 0, 1, 1, 2, 2]`. Try finding the MTD using a `while` loop."
   ]
  },
  {
   "cell_type": "code",
   "execution_count": 32,
   "metadata": {},
   "outputs": [],
   "source": [
    "dose_list = [1, 2, 3, 5, 8, 13]\n",
    "tox_list = [0, 0, 1, 1, 2, 2]"
   ]
  },
  {
   "cell_type": "code",
   "execution_count": 33,
   "metadata": {},
   "outputs": [
    {
     "name": "stdout",
     "output_type": "stream",
     "text": [
      "5\n"
     ]
    }
   ],
   "source": [
    "# Using while loop\n",
    "i = 0\n",
    "while tox_list[i] < 2:\n",
    "    i += 1\n",
    "mtd = dose_list[i - 1]\n",
    "print(mtd)"
   ]
  }
 ],
 "metadata": {
  "colab": {
   "include_colab_link": true,
   "name": "Lesson 2.ipynb",
   "provenance": [],
   "version": "0.3.2"
  },
  "kernelspec": {
   "display_name": "Python 3",
   "language": "python",
   "name": "python3"
  },
  "language_info": {
   "codemirror_mode": {
    "name": "ipython",
    "version": 3
   },
   "file_extension": ".py",
   "mimetype": "text/x-python",
   "name": "python",
   "nbconvert_exporter": "python",
   "pygments_lexer": "ipython3",
   "version": "3.12.0"
  }
 },
 "nbformat": 4,
 "nbformat_minor": 4
}
