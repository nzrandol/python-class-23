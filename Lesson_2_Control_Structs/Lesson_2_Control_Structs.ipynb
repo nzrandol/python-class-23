{
 "cells": [
  {
   "cell_type": "markdown",
   "metadata": {
    "colab_type": "text",
    "id": "view-in-github"
   },
   "source": [
    "[![Open In Colab](https://colab.research.google.com/assets/colab-badge.svg)](https://colab.research.google.com/github/How-to-Learn-to-Code/python-class/blob/master/Lesson_2_Control_Structs/Lesson_2_Control_structs_teacher.ipynb)"
   ]
  },
  {
   "cell_type": "markdown",
   "metadata": {
    "colab_type": "text",
    "id": "T5WJjJnfpZWM"
   },
   "source": [
    "# Lesson 2 - Data Structures and Control Flows"
   ]
  },
  {
   "cell_type": "markdown",
   "metadata": {},
   "source": [
    "## Learning Objectives: \n",
    "\n",
    "Students will learn about various data structures and how to control the flow of their code.\n",
    "\n",
    "* [Basic Data Structures: `list`, `tuple`, `set`, `dict`](#data_structs)\n",
    "* [In-Class Exercises: Part 1](#exercises1)\n",
    "* [Controlling Flow with `if`/`elif`/`else` Statments and `for`/`while` Loops](#control)\n",
    "* [In-Class Exercises: Part 2](#exercises2)\""
   ]
  },
  {
   "cell_type": "markdown",
   "metadata": {},
   "source": [
    "### Basic Data Structures: `list`, `tuple`, `set`, `dict` <a id='data_structs'></a>"
   ]
  },
  {
   "cell_type": "markdown",
   "metadata": {},
   "source": [
    "Data structures are simply structures/containers which hold some data together. In other words, they are used to store a collection of related data. These are particularly helpful when working with experimental data sets. There are four built-in data structures in Python: `list`, `tuple`, `set`, and `dict`. In this lesson, we will learn about each data structures."
   ]
  },
  {
   "cell_type": "markdown",
   "metadata": {
    "colab_type": "text",
    "id": "2mcXMmme9jbI"
   },
   "source": [
    "#### Lists\n",
    "\n",
    "A `list` is a data structure that holds an ordered collection of items, i.e. you can store a sequence of items. An easy-to-imagine example is a shopping list where you have a list of items to buy. In that list, however, you probably have each item on a separate line, whereas in Python, you put commas in between them, as you'll soon see.\n",
    "\n",
    "Here are important properties of lists:\n",
    "\n",
    "* Lists remember the order of items inserted (i.e. lists are **ordered**).\n",
    "* Items in a list can be accessed using an index.\n",
    "* Lists can contain any sort of object. For instance, there can be numbers, strings, tuples, and even other lists.\n",
    "* You can change a list in-place, add new items, and delete or update existing items (i.e. lists are **mutable**)."
   ]
  },
  {
   "cell_type": "markdown",
   "metadata": {},
   "source": [
    "Let's create a list containing five different genes: *EGFR, KRAS, MYC, RB,* and *TP53*. In Python, a `list` is created by placing elements inside square brackets `[]`, separated by commas:"
   ]
  },
  {
   "cell_type": "code",
   "execution_count": null,
   "metadata": {
    "colab": {},
    "colab_type": "code",
    "id": "jlcZE-UfpPmZ"
   },
   "outputs": [],
   "source": []
  },
  {
   "cell_type": "markdown",
   "metadata": {},
   "source": [
    "We can access items in a `list` using indexing operations. In Python, indices start at 0."
   ]
  },
  {
   "cell_type": "markdown",
   "metadata": {},
   "source": [
    "![indexing](https://cdn.programiz.com/sites/tutorial2program/files/python-list-index.png)"
   ]
  },
  {
   "cell_type": "markdown",
   "metadata": {},
   "source": [
    "Let's try to access the second gene in our `gene_list`:"
   ]
  },
  {
   "cell_type": "code",
   "execution_count": null,
   "metadata": {},
   "outputs": [],
   "source": []
  },
  {
   "cell_type": "markdown",
   "metadata": {},
   "source": [
    "Python also has 'negative indices' which can be very convenient when we want to access last i-th item. For instance, the last item in the list can be accessed with index of -1. Let's try to access the second to last item in `gene_list`:"
   ]
  },
  {
   "cell_type": "code",
   "execution_count": null,
   "metadata": {},
   "outputs": [],
   "source": []
  },
  {
   "cell_type": "markdown",
   "metadata": {},
   "source": [
    "We can also access a range (or **slice**) of items in a list using the slicing operator `:`. Let's try to access the first three items in `gene_list`. Note that the start index is *inclusive*, but end index is *exclusive*. We will see later when this can be useful."
   ]
  },
  {
   "cell_type": "code",
   "execution_count": null,
   "metadata": {},
   "outputs": [],
   "source": [
    "# Print the first three items\n",
    "\n",
    "# If starting from the beginning of the list, the starting index can be omitted\n",
    "\n",
    "# Equivalently\n",
    "# Notice that the starting index is included, but the ending index is not"
   ]
  },
  {
   "cell_type": "markdown",
   "metadata": {},
   "source": [
    "What should we do if we want to access the last three items?"
   ]
  },
  {
   "cell_type": "code",
   "execution_count": null,
   "metadata": {},
   "outputs": [],
   "source": [
    "# Print the last three items\n",
    "# Notice that when going to the end of the list, the ending index is omitted\n",
    "\n",
    "# Equivalently"
   ]
  },
  {
   "cell_type": "markdown",
   "metadata": {},
   "source": [
    "Now suppose, we are interested in a new cancer gene *PTEN* and want to add this to our gene list. How should we do this? There are a few ways to do this, but one of the simplest is using a `list` method called `append()`: "
   ]
  },
  {
   "cell_type": "code",
   "execution_count": null,
   "metadata": {},
   "outputs": [],
   "source": []
  },
  {
   "cell_type": "markdown",
   "metadata": {},
   "source": [
    "Oops! Suppose, we wanted add *BRAF* instead of *PTEN*! What should we do? Since lists are **mutable**, we can replace *PTEN* with *BRAF*:"
   ]
  },
  {
   "cell_type": "code",
   "execution_count": null,
   "metadata": {},
   "outputs": [],
   "source": []
  },
  {
   "cell_type": "markdown",
   "metadata": {},
   "source": [
    "There are other useful `list` methods that we can use to alter and describe lists, including:\n",
    "\n",
    "- `list.append(x)`: Add an item `x` to the end of the list.\n",
    "- `list.remove(x)`: Remove the first item in the list whose value is equal to `x`. \n",
    "- `list.count(x)`: Return the number of times `x` appears in the list.\n",
    "\n",
    "Some useful functions for lists include:\n",
    "- `reversed(l)`: Reverse the order of items in list `l` and return the new list.\n",
    "- `sorted(l)`: Sort the order of values in list `l` (default is in ascending order) and return the new list.\n",
    "- `len(l)`: Return the length of list `l`."
   ]
  },
  {
   "cell_type": "markdown",
   "metadata": {},
   "source": [
    "#### Tuples\n",
    "\n",
    "Tuples, like lists, are ordered collection of items, but they have one major difference. Tuples are **immutable**, meaning that we cannot change, add, or remove items after they are created. We can create a `tuple` by placing comma-seperated values inside `()`."
   ]
  },
  {
   "cell_type": "code",
   "execution_count": null,
   "metadata": {},
   "outputs": [],
   "source": []
  },
  {
   "cell_type": "markdown",
   "metadata": {},
   "source": [
    "Similarly to lists, we can use indexing and slicing to access items:"
   ]
  },
  {
   "cell_type": "code",
   "execution_count": null,
   "metadata": {},
   "outputs": [],
   "source": [
    "# Access the third item\n",
    "\n",
    "# Access the last two items"
   ]
  },
  {
   "cell_type": "markdown",
   "metadata": {},
   "source": [
    "Can we replace *KRAS* with *NRAS* in our `gene_tuple`?"
   ]
  },
  {
   "cell_type": "code",
   "execution_count": null,
   "metadata": {},
   "outputs": [],
   "source": []
  },
  {
   "cell_type": "markdown",
   "metadata": {},
   "source": [
    "This raises error because tuples are **immutable**."
   ]
  },
  {
   "cell_type": "markdown",
   "metadata": {},
   "source": [
    "#### Sets\n",
    "\n",
    "A Python `set` is an unordered collection of unique items. \n",
    "\n",
    "The important properties of sets are:\n",
    "\n",
    "- Items stored in a `set` aren’t kept in any particular order (i.e. sets are **unordered**).\n",
    "- Items in a `set` are unique – duplicate items are not allowed.\n",
    "- Because sets are **unordered**, `set` items cannot be referred to by an index.\n",
    "- Sets are changeable (i.e. **mutable**).\n",
    "\n",
    "Sets can be created by placing items comma-seperated values inside `{}`"
   ]
  },
  {
   "cell_type": "markdown",
   "metadata": {},
   "source": [
    "Sets are commonly used for computing mathematical operations such as union, intersection, difference, and symmetric difference.\n",
    "\n",
    "![set operations](https://www.learnbyexample.org/wp-content/uploads/python/Python-Set-Operatioons.png)"
   ]
  },
  {
   "cell_type": "markdown",
   "metadata": {},
   "source": [
    "Suppose we have tissue data from two patients, with some genes being upregulated in tumor tissues compared to normal tissues. We would like to know if there are any shared upregulated genes between the patients."
   ]
  },
  {
   "cell_type": "code",
   "execution_count": null,
   "metadata": {},
   "outputs": [],
   "source": [
    "patient1 = {'ABCC1', 'BRCA1', 'BRCA2', 'HER2'}\n",
    "patient2 = {'BRCA1', 'HER2', 'ERCC1'}"
   ]
  },
  {
   "cell_type": "code",
   "execution_count": null,
   "metadata": {},
   "outputs": [],
   "source": [
    "# Intersection of the two sets using the intersection method\n",
    "\n",
    "# Equivalently, we can use the & operator"
   ]
  },
  {
   "cell_type": "markdown",
   "metadata": {
    "colab_type": "text",
    "id": "sbLhhtDPBw_M"
   },
   "source": [
    "#### Dictionaries\n",
    "\n",
    "A dictionary (`dict`) is like an address book, where you can find the address of a person by knowing only their name. That is, we associate keys (names) with values (addresses). Note that the key must be unique: you cannot find the correct address if two people have the exact same name. Also, you can use only immutable objects (like strings) for the keys of a dictionary, but you can use either immutable or mutable objects for the values. Note, dictionaries themselves are considered mutable.\n",
    "\n",
    "Pairs of keys and values are specified in a `dict` by using the notation `dict = {key1: value1, key2: value2}`. Notice that the key-value pairs are separated by a colon, the pairs themselves are separated by commas, and all this is enclosed in a pair of curly braces `{}`."
   ]
  },
  {
   "cell_type": "markdown",
   "metadata": {},
   "source": [
    "Suppose we wanted to keep track of the ages of patients in a clinical trial:"
   ]
  },
  {
   "cell_type": "code",
   "execution_count": null,
   "metadata": {
    "colab": {},
    "colab_type": "code",
    "id": "PL68GxZAFKit"
   },
   "outputs": [],
   "source": [
    "ages_dict = {'Karen P.': 53, 'Jessica M.': 47, 'David G.': 45, 'Susan K.': 57, 'Eric O.': 50}\n",
    "print(ages_dict)"
   ]
  },
  {
   "cell_type": "markdown",
   "metadata": {},
   "source": [
    "We can access a person's age (value) using their name (key). Let's find out Eric O.'s age:"
   ]
  },
  {
   "cell_type": "code",
   "execution_count": null,
   "metadata": {},
   "outputs": [],
   "source": []
  },
  {
   "cell_type": "markdown",
   "metadata": {},
   "source": [
    "Suppose new patient is enrolled into the clinical trial. Her name is Hannah H., and her age is 39. We can add a new item to the dictionary:"
   ]
  },
  {
   "cell_type": "code",
   "execution_count": null,
   "metadata": {},
   "outputs": [],
   "source": []
  },
  {
   "cell_type": "markdown",
   "metadata": {
    "colab_type": "text",
    "id": "hOggiwzmMm1Z"
   },
   "source": [
    "### In-Class Exercises: Part 1 <a id='exercises1'></a>"
   ]
  },
  {
   "cell_type": "markdown",
   "metadata": {},
   "source": [
    "The following exercises will help you better understand data structures."
   ]
  },
  {
   "cell_type": "markdown",
   "metadata": {},
   "source": [
    "1. Make a list named `num_list` that contains the following numbers 1, 4, 25, 7, 9, 12, 15, 16, and 21."
   ]
  },
  {
   "cell_type": "code",
   "execution_count": null,
   "metadata": {},
   "outputs": [],
   "source": []
  },
  {
   "cell_type": "markdown",
   "metadata": {},
   "source": [
    "2. Find the following information about `num_list`: length, minimum value, and maximum value. (You may need to search to find functions that can help you.)"
   ]
  },
  {
   "cell_type": "code",
   "execution_count": null,
   "metadata": {},
   "outputs": [],
   "source": [
    "# Length"
   ]
  },
  {
   "cell_type": "code",
   "execution_count": null,
   "metadata": {},
   "outputs": [],
   "source": [
    "# Minimum value"
   ]
  },
  {
   "cell_type": "code",
   "execution_count": null,
   "metadata": {},
   "outputs": [],
   "source": [
    "# Maximum value"
   ]
  },
  {
   "cell_type": "markdown",
   "metadata": {},
   "source": [
    "3. Make a dictionary named `med_dict` that contains the price of five medications.\n",
    ">* Lisinopril: $23.07\n",
    ">* Gabapentin: $86.27\n",
    ">* Sildenafil: $169.94 \n",
    ">* Amoxicillin: $17.76\n",
    ">* Prednisone: $13.81"
   ]
  },
  {
   "cell_type": "code",
   "execution_count": null,
   "metadata": {},
   "outputs": [],
   "source": []
  },
  {
   "cell_type": "markdown",
   "metadata": {},
   "source": [
    "4. Use `med_dict` to calculate how much it will cost if a patient is treated with both Lisinopril and Prednisone."
   ]
  },
  {
   "cell_type": "code",
   "execution_count": null,
   "metadata": {},
   "outputs": [],
   "source": []
  },
  {
   "cell_type": "markdown",
   "metadata": {
    "colab": {},
    "colab_type": "code",
    "id": "jj1BdK9TiThp"
   },
   "source": [
    "### Controlling Flow with `if`/`elif`/`else` Statments and `for`/`while` Loops <a id='control'></a>"
   ]
  },
  {
   "cell_type": "markdown",
   "metadata": {},
   "source": [
    "#### `if`/`elif`/`else` Statements\n",
    "\n",
    "Control flow is required when we want to execute a piece of code only if a certain condition is satisfied.\n",
    "\n",
    "The `if`/`elif`/`else` statements are used in Python for this decision making. We can use these statments to execute a block of code only when specific conditions are true. Note that `elif` is an abbreviation for else if. These statements use the following syntax:\n",
    "\n",
    "```python\n",
    "if condition1:\n",
    "    statment1\n",
    "elif condition2:\n",
    "    statement2\n",
    "else:\n",
    "    statement3\n",
    "```"
   ]
  },
  {
   "cell_type": "markdown",
   "metadata": {},
   "source": [
    "![ifelse syntax](https://www.learnbyexample.org/wp-content/uploads/python/Python-elif-Statement-Syntax.png)"
   ]
  },
  {
   "cell_type": "markdown",
   "metadata": {},
   "source": [
    "Let's think about a clincal trial that is trying to find an appropriate dose. We first treat three patients with dose $x$. If no patients show toxic side effects, we'll increase the dose. If only one patient shows toxicity, we'll treat another three patients to learn more. If more than one patients show toxicity, we'll stop at that dose. Let's write these conditions in Python. You can change the value of `n_toxic` to see the different behaviors."
   ]
  },
  {
   "cell_type": "code",
   "execution_count": null,
   "metadata": {},
   "outputs": [],
   "source": []
  },
  {
   "cell_type": "markdown",
   "metadata": {},
   "source": [
    "#### Loops\n",
    "\n",
    "There are two types of loops in Python: `while` loops and `for` loops. Loops are useful when we want to perform the same task repetitively."
   ]
  },
  {
   "cell_type": "markdown",
   "metadata": {},
   "source": [
    "##### `while` Loop\n",
    "\n",
    "A `while` loop is used when you want to perform a task indefinitely until a particular condition is met. For instance, suppose we want to enroll new patients into a clinical trial until we have 30 patients total."
   ]
  },
  {
   "cell_type": "code",
   "execution_count": null,
   "metadata": {},
   "outputs": [],
   "source": []
  },
  {
   "cell_type": "markdown",
   "metadata": {},
   "source": [
    "What do you think will happen if we use `while True`?"
   ]
  },
  {
   "cell_type": "markdown",
   "metadata": {},
   "source": [
    "##### `for` Loop\n",
    "\n",
    "`for` loops are used for iterating over a sequence of objects, i.e. going through each item in a sequence. Objects that can be used in `for` loops include lists, tuples, dictonaries, sets, and strings. `for` loops have the following syntax:\n",
    "\n",
    "```python\n",
    "for var in iterable:\n",
    "    statement\n",
    "```\n"
   ]
  },
  {
   "cell_type": "markdown",
   "metadata": {},
   "source": [
    "Let's look at an example of a `for` loop:"
   ]
  },
  {
   "cell_type": "code",
   "execution_count": null,
   "metadata": {},
   "outputs": [],
   "source": []
  },
  {
   "cell_type": "markdown",
   "metadata": {},
   "source": [
    "We can also use the `range()` function to do the same thing. The `range()` function can take three parameters: starting value (default is 0), ending value, and step size (default is 1). Like slicing, the start value is inclusive but the end value is exclusive. Note that when an argument or parameter has a default value and you want to use that value, you don't need to explicitly include it."
   ]
  },
  {
   "cell_type": "code",
   "execution_count": null,
   "metadata": {},
   "outputs": [],
   "source": []
  },
  {
   "cell_type": "code",
   "execution_count": null,
   "metadata": {},
   "outputs": [],
   "source": [
    "# The starting value can be omitted since there is a default value of 0."
   ]
  },
  {
   "cell_type": "markdown",
   "metadata": {
    "tags": []
   },
   "source": [
    "### In-Class Exercises: Part 2 <a id='exercises2'></a>"
   ]
  },
  {
   "cell_type": "markdown",
   "metadata": {},
   "source": [
    "Before going into exercise, let's learn a handy operation `+=`:"
   ]
  },
  {
   "cell_type": "code",
   "execution_count": null,
   "metadata": {},
   "outputs": [],
   "source": [
    "a = 0\n",
    "a = a + 1\n",
    "print(a)"
   ]
  },
  {
   "cell_type": "markdown",
   "metadata": {},
   "source": [
    "is equivalent to "
   ]
  },
  {
   "cell_type": "code",
   "execution_count": null,
   "metadata": {},
   "outputs": [],
   "source": [
    "a = 0\n",
    "a += 1\n",
    "print(a)"
   ]
  },
  {
   "cell_type": "markdown",
   "metadata": {},
   "source": [
    "Note that similarly `-=`, `*=`, and `/=` exist!"
   ]
  },
  {
   "cell_type": "markdown",
   "metadata": {},
   "source": [
    "1. One of the most exciting parts about control flow is that they can be *nested* to make more complex algorithms. Let's try the complementary oligo sequence task that we discussed in Lesson 1. Solve this problem using `for` and `if`. For an added challenge, try making your answer even shorter with a `for` loop and dictionary.\n",
    "\n",
    "As a reminder, we want two new variables, `comp_oligo1` and `comp_oligo2`, that are the complementary DNA sequences of `oligo1` and `oligo2`. (Hint: A <-> T and G <-> C)"
   ]
  },
  {
   "cell_type": "code",
   "execution_count": null,
   "metadata": {},
   "outputs": [],
   "source": [
    "# From Lesson 1\n",
    "oligo1 = 'GCGCTCAAT'\n",
    "oligo2 = 'TACTAGGCA'"
   ]
  },
  {
   "cell_type": "code",
   "execution_count": null,
   "metadata": {},
   "outputs": [],
   "source": [
    "# Using for and if"
   ]
  },
  {
   "cell_type": "code",
   "execution_count": null,
   "metadata": {},
   "outputs": [],
   "source": [
    "# Using for and dict"
   ]
  },
  {
   "cell_type": "markdown",
   "metadata": {},
   "source": [
    "2. Let's go back to the dose-finding clinical trials. We have a list of doses that we want to test: `dose_list = [1, 2, 3, 5, 8, 13]`. We want to increase the dose until we hit the maximal tolerated dose (MTD). For simplicity, we will increase the dose when less than two of the three patients have toxicity and stop otherwise. The last dose before at least two patients have toxicity will be declared the MTD. Suppose we already know how many patients will have toxicity at each dose: `tox_list = [0, 0, 1, 1, 2, 2]`. Try finding the MTD using a `while` loop."
   ]
  },
  {
   "cell_type": "code",
   "execution_count": null,
   "metadata": {},
   "outputs": [],
   "source": [
    "dose_list = [1, 2, 3, 5, 8, 13]\n",
    "tox_list = [0, 0, 1, 1, 2, 2]"
   ]
  },
  {
   "cell_type": "code",
   "execution_count": null,
   "metadata": {},
   "outputs": [],
   "source": [
    "# Using while loop"
   ]
  }
 ],
 "metadata": {
  "colab": {
   "include_colab_link": true,
   "name": "Lesson 2.ipynb",
   "provenance": [],
   "version": "0.3.2"
  },
  "kernelspec": {
   "display_name": "Python 3",
   "language": "python",
   "name": "python3"
  },
  "language_info": {
   "codemirror_mode": {
    "name": "ipython",
    "version": 3
   },
   "file_extension": ".py",
   "mimetype": "text/x-python",
   "name": "python",
   "nbconvert_exporter": "python",
   "pygments_lexer": "ipython3",
   "version": "3.12.0"
  }
 },
 "nbformat": 4,
 "nbformat_minor": 4
}
