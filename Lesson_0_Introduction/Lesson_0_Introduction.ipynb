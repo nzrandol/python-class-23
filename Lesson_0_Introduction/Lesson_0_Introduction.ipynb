{
 "cells": [
  {
   "attachments": {},
   "cell_type": "markdown",
   "metadata": {},
   "source": [
    "[![Open In Colab](https://colab.research.google.com/assets/colab-badge.svg)](https://colab.research.google.com/github/How-to-Learn-to-Code/python-class/blob/master/Lesson_1_Basics/Lesson_1_Student_Version.ipynb)"
   ]
  },
  {
   "attachments": {},
   "cell_type": "markdown",
   "metadata": {},
   "source": [
    "# Lesson 0 - Basic Introduction to Programming in Python"
   ]
  },
  {
   "attachments": {},
   "cell_type": "markdown",
   "metadata": {},
   "source": [
    "### Learning objectives\n",
    "\n",
    "Students will be given an introduction to programming in Python, working in interactive notebooks, and creating rigorous and reproducible code.\n",
    "\n",
    "* [Introduction to Programming in Python](#program)\n",
    "* [Introduction to Jupyter Notebooks and Google Colab](#notebooks)\n",
    "* [Rigor and Reproducibility in Your Code](#rigor-reproducibility)\n"
   ]
  },
  {
   "attachments": {},
   "cell_type": "markdown",
   "metadata": {},
   "source": [
    "#### Introduction to Programming in Python <a id='program'></a>"
   ]
  },
  {
   "attachments": {},
   "cell_type": "markdown",
   "metadata": {},
   "source": [
    "Python is a general purpose programming language that is widely used in scientific computing, image analysis, machine learning, etc. It allows you to specify a set of instructions, written as a script or a program, to execute some task of interest. \n",
    "\n",
    "* Have any of you used a script before? What did you do to run it? What was the purpose of the script? Did it aid in reproducibility? Was it quicker to run or modify than calculating things individually by hand? \n",
    "\n",
    "The purpose of this series of Python lessons is not to give you an extensive in-depth overview of everything you can do in Python. However, we do aim to give you all the skills and terminology necessary to **learn** how to learn to code in Python. Google, [Stack Overflow](https://stackoverflow.com/), and [GitHub Issues](https://github.com/) are invaluable tools you can use to your advantage for (1) gaining coding help and (2) learning how to write code from reading code."
   ]
  },
  {
   "attachments": {},
   "cell_type": "markdown",
   "metadata": {},
   "source": [
    "#### Introduction to Jupyter Notebooks and Google Colab <a id='notebooks'></a>"
   ]
  },
  {
   "attachments": {},
   "cell_type": "markdown",
   "metadata": {},
   "source": [
    "We will be using the cloud service [Google Colab](https://colab.research.google.com) for learning Python. This service provides free computing resources and creates an isolated \"environment\" for you to work in. Using your Google account (or you will have to create one), open up [Google Colab](https://colab.research.google.com) in your web browser. Start a \"New Notebook\" to create a new Python notebook.\n",
    "\n",
    "There are many types of files that you can use for Python coding. The most important for you now are:\n",
    "* `.py`: This is a Python script file. Everything in this file has to be Python code. You would use this file for a complete analysis or as part of a larger project.\n",
    "* `.ipynb`: This is a Jupyter Notebook file. Notebooks provide a convenient user interface to seemlessly, and interactively, code in Python. This lesson is a Jupyter Notebook!"
   ]
  },
  {
   "attachments": {},
   "cell_type": "markdown",
   "metadata": {},
   "source": [
    "\"The Jupyter Notebook is an incredibly powerful tool for interactively developing and presenting data science projects... A notebook integrates code and its output into a single document that combines visualizations, narrative text, mathematical equations, and other rich media. In other words: it's a single document where you can run code, display the output, and also add explanations, formulas, charts, and make your work more transparent, understandable, repeatable, and shareable. Using Notebooks is now a major part of the data science workflow at companies across the globe.\" - [Dataquest](https://www.dataquest.io/blog/jupyter-notebook-tutorial/)\n",
    "\n",
    "All of our lessons will be presented in Jupyter Notebooks due to their interactive nature. They consist of two main attributes: a `kernel` and `cells`. \n",
    "* A `kernel` interprets and executes the code. Here we are using the kernel for Python; however, you can specify a kernel for another language like R. \n",
    "* A `cell` is a container for either text or code to be executed. \n",
    "\n",
    "To run the Python code in a cell, you just hit `shift + enter`. Try it with the code below."
   ]
  },
  {
   "cell_type": "code",
   "execution_count": null,
   "metadata": {},
   "outputs": [],
   "source": [
    "print('hello world')"
   ]
  },
  {
   "attachments": {},
   "cell_type": "markdown",
   "metadata": {},
   "source": [
    "#### Rigor and Reproducibility in Your Code <a id='rigor-reproducibility'></a>"
   ]
  },
  {
   "attachments": {},
   "cell_type": "markdown",
   "metadata": {},
   "source": [
    "Like when an author writes, a programmer will adopt a style of coding. This can be as small as how many new lines you have between code lines, to the way you comment your code, and how you name your variables. Matching a standard style of code will help make your code more readable and more reproducible. If you continue your coding journey, we recommend the [PEP 8 - Style Guide for Python Code](https://peps.python.org/pep-0008). Go ahead and look through this resource, but focus on the [Comments](https://peps.python.org/pep-0008/#comments), [Code Lay-out](https://peps.python.org/pep-0008/#code-lay-out), and [Naming Conventions](https://peps.python.org/pep-0008/#naming-conventions) sections. "
   ]
  },
  {
   "attachments": {},
   "cell_type": "markdown",
   "metadata": {},
   "source": [
    "##### Commenting Your Code\n"
   ]
  },
  {
   "attachments": {},
   "cell_type": "markdown",
   "metadata": {},
   "source": [
    "One of the most important things you can do to learn and to help other programmers read your code is using meaningful comments. Comments will begin with a `#` sign within a code chunk. You can have an inline comment, to provide information for a specific line of code, or a block of comments to describe a section. You want these comments to be concise but informative. \n",
    "\n",
    "At the beginning of every file, use a block of comments to outline the Python file you're making. This will also be good practice for documentation for any public code you publish. This can look something like this: "
   ]
  },
  {
   "cell_type": "code",
   "execution_count": null,
   "metadata": {},
   "outputs": [],
   "source": [
    "# File name     : Lesson_0_Introduction\n",
    "# Goal          : This script is a practice for the How to Learn to Code class. It is introducing Python, reproducible code using Jupyter Notebooks, and coding styles. \n",
    "# Input         : NA\n",
    "# Output        : NA\n",
    "# Libraries     : NA\n",
    "# Required      : Google account\n"
   ]
  },
  {
   "attachments": {},
   "cell_type": "markdown",
   "metadata": {},
   "source": [
    "Examples of input are any datasets you need, other files that are used in this script, etc. You also may have figures or processed data as outputs. List all of these at the top of your code, so that you can find the information quickly when you return to this script or when someone else wants to use it. If you're using a notebook, like in this class, feel free to add this in a \"Markdown\" cell instead."
   ]
  },
  {
   "attachments": {},
   "cell_type": "markdown",
   "metadata": {},
   "source": [
    "Your inline comments should be added to describe an important line of code. Look at the formatting below:"
   ]
  },
  {
   "cell_type": "code",
   "execution_count": null,
   "metadata": {},
   "outputs": [],
   "source": [
    "i = 2\n",
    "\n",
    "# Good commenting style:\n",
    "if i & (i % 2) == 0:  # True if i is not 0 and is even.\n",
    "    print('True')\n",
    "\n",
    "# Bad commenting style: \n",
    "if i & (i % 2) == 0: #checking i\n",
    "    print('True')"
   ]
  },
  {
   "attachments": {},
   "cell_type": "markdown",
   "metadata": {},
   "source": [
    "##### Naming Conventions"
   ]
  },
  {
   "attachments": {},
   "cell_type": "markdown",
   "metadata": {},
   "source": [
    "When you are naming something in your code, like a variable, it is important to follow a few rules:\n",
    "* Always start the name with a letter (no numbers or special characters).\n",
    "* Never start a name with an underscore (this is reserved for special cases in Python).\n",
    "* Avoid long variable names. \n",
    "* Use a specific naming style. (In this class, we will use \"snake case\" which is all lowercase with an underscore seperating words.)"
   ]
  },
  {
   "cell_type": "code",
   "execution_count": null,
   "metadata": {},
   "outputs": [],
   "source": [
    "# Good naming and formatting style: \n",
    "apples = ['granny_smith', 'machintosh', 'golden_delicious']\n",
    "granny_smith = 'green'\n",
    "machintosh = 'red'\n",
    "golden_delicious = 'yellow'\n",
    "\n",
    "# Bad naming and formatting style:\n",
    "list_ofApples=['gs','MACIN',  '_golden_']\n",
    "gs= 'green'\n",
    "MACIN =\"Red\"\n",
    "_Golden='y'"
   ]
  },
  {
   "attachments": {},
   "cell_type": "markdown",
   "metadata": {},
   "source": [
    "Finally, when naming your files, find a format that works well for you, but follow these few rules:\n",
    "* If you start your files with a number and you expect to have more than 10 (or more than 100), add a zero (or zeros) to the beginning of the file name. Computers will treat the number in the name as part of the alphabet, so if you don't do this, the computer orders them incorrectly.\n",
    "    * WRONG: 1_facs_data.fcs, 10_facs_data.fcs, 11_facs_data.fcs, ..., 2_facs_data.fcs\n",
    "    * RIGHT: 01_facs_data.fcs, 02_facs_data.fcs, ..., 10_facs_data.fcs\n",
    "    * RIGHT: 001_facs_data.fcs, 002_facs_data.fcs, ..., 010_facs_data.fcs, ..., 100_facs_data.fcs\n",
    "\n",
    "* Never have a space in your file name.\n",
    "    * WRONG: facs data.fcs\n",
    "    * RIGHT: facs_data.fcs\n",
    "\n",
    "* For a project, always name your files similar to each other.\n",
    "    * WRONG: 01_facs_data.fcs, facsdata2.fsc, 3_facs_data.fsc, mouse4_facs_data_.fsc"
   ]
  }
 ],
 "metadata": {
  "interpreter": {
   "hash": "c4d4cf0f866ef5d608adbb3b8114bb30b4107b67947e423d500be3fa738ca8f5"
  },
  "kernelspec": {
   "display_name": "Python 3",
   "language": "python",
   "name": "python3"
  },
  "language_info": {
   "codemirror_mode": {
    "name": "ipython",
    "version": 3
   },
   "file_extension": ".py",
   "mimetype": "text/x-python",
   "name": "python",
   "nbconvert_exporter": "python",
   "pygments_lexer": "ipython3",
   "version": "3.8.3"
  }
 },
 "nbformat": 4,
 "nbformat_minor": 4
}
