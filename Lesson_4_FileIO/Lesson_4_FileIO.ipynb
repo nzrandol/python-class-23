{
 "cells": [
  {
   "cell_type": "markdown",
   "id": "9787edc1",
   "metadata": {},
   "source": [
    "[![Open In Colab](https://colab.research.google.com/assets/colab-badge.svg)](https://colab.research.google.com/github/How-to-Learn-to-Code/python-class/blob/master/Lesson_4_FileIO/Lesson_4.ipynb)"
   ]
  },
  {
   "cell_type": "markdown",
   "id": "c1a5c7d3",
   "metadata": {},
   "source": [
    "# Lesson 4 - File IO and String Manipulation"
   ]
  },
  {
   "cell_type": "markdown",
   "id": "6b5b5eb8-d3e3-4d81-81e5-14587d171ec4",
   "metadata": {},
   "source": [
    "## Learning Objectives: \n",
    "\n",
    "Students will be able to load text files into Python objects and learn to manipulate file names and strings.\n",
    "\n",
    "* [Introduction to IO](#io) \n",
    "* [Reading Files](#reading)\n",
    "* [Closing Files](#closing)\n",
    "* [Context Management](#context)\n",
    "* [String Manipulation](#string)\n",
    "* [Working with Multiple Files](#multiple)\n",
    "* [In-Class Exercises](#exercises)"
   ]
  },
  {
   "cell_type": "markdown",
   "id": "b13d3e12",
   "metadata": {},
   "source": [
    "### Introduction to IO <a id='io'></a>"
   ]
  },
  {
   "cell_type": "markdown",
   "id": "affa9ba8",
   "metadata": {},
   "source": [
    "Every program has an input and an output. In science, the input is usually your raw data; the output can be anything from processed data, statistical tests, model predictions, or figures for a paper or presentation. In any case, loading your input data is often one of the first tasks that you will have to execute in your code.\n",
    "\n",
    "This lesson will teach you how to deal with text files, but the tools learned here will be applicable to a variety of different file types that you may come accross in your research."
   ]
  },
  {
   "cell_type": "markdown",
   "id": "d467fd0d",
   "metadata": {},
   "source": [
    "#### Motivating Example\n",
    "\n",
    "Your collaborator just sent you files containing lists of genes that are upregulated in specific cell types. You're interested in using these gene lists to determine how similar cells in your own dataset are to these cell types discovered by your collaborator. You have all the files in a single directory, but how do you go about reading the data into Python?"
   ]
  },
  {
   "cell_type": "markdown",
   "id": "8c7ee128-5871-4272-a672-f69283146343",
   "metadata": {},
   "source": [
    "#### Setup\n",
    "\n",
    "We will be using data in external files for this lesson, so we will need a way to access these. In Colab, we can do this by cloning the data from GitHub. You can also access your Google Drive from Colab by mounting your Drive every time you open your notebook.\n",
    "\n",
    "We'll clone the data from GitHub using a language called bash. This language is specialized for communicating with UNIX operating systems, including MacOS and Linux. (Google Colab is running your notebook on a Linux server). We can run bash commands in our notebook by starting a line with an exclamation point or percent sign."
   ]
  },
  {
   "cell_type": "code",
   "execution_count": null,
   "id": "9b8e2774-a083-4e84-bda3-783c561ff110",
   "metadata": {},
   "outputs": [],
   "source": [
    "!git clone https://github.com/How-to-Learn-to-Code/python-class.git"
   ]
  },
  {
   "cell_type": "markdown",
   "id": "0195e02d-9868-43a7-923b-3b964c61561a",
   "metadata": {},
   "source": [
    "Now we have access to all the files in the GitHub repository. Next, we want to change the folder where our code will execute. This is called the **working directory**. We can change the working directory using the `cd` bash command. Let's go to the directory where the data is stored."
   ]
  },
  {
   "cell_type": "code",
   "execution_count": null,
   "id": "5a4bb739-856f-410c-9f81-269c90843fc3",
   "metadata": {},
   "outputs": [],
   "source": [
    "%cd python-class/Lesson_4_FileIO/data"
   ]
  },
  {
   "cell_type": "markdown",
   "id": "829b4741-4c53-4dcf-bc57-87ad073df0dd",
   "metadata": {},
   "source": [
    "If we want to double check which directory we're in, we can print our current working directory using the command `pwd`."
   ]
  },
  {
   "cell_type": "code",
   "execution_count": null,
   "id": "0570a5e3-a371-46ea-84e9-6b29a81367bc",
   "metadata": {},
   "outputs": [],
   "source": [
    "%pwd"
   ]
  },
  {
   "cell_type": "markdown",
   "id": "c0a54822-65ba-4e85-883f-f1d4165bcd2a",
   "metadata": {},
   "source": [
    "We can also see all the files in our current directory, using the \"list\" command `ls`. After running the next cell, you should see the all the files in the `data` directory."
   ]
  },
  {
   "cell_type": "code",
   "execution_count": null,
   "id": "73f1f2e5-82ef-453e-9618-9ad4c237c0aa",
   "metadata": {},
   "outputs": [],
   "source": [
    "%ls"
   ]
  },
  {
   "cell_type": "markdown",
   "id": "017905d6",
   "metadata": {},
   "source": [
    "### Reading Files <a id='reading'></a>"
   ]
  },
  {
   "cell_type": "markdown",
   "id": "ccc15e44",
   "metadata": {},
   "source": [
    "In order to read files in Python, we need to know the file path. The file path is the location of the file on your computer. Because we're already in the `data` directory, we can access the file by using the file name.\n",
    "\n",
    "To open a file in Python, we can simply use the `open()` function."
   ]
  },
  {
   "cell_type": "code",
   "execution_count": null,
   "id": "f8d36137",
   "metadata": {},
   "outputs": [],
   "source": [
    "filepath = 'data/dna.txt'\n",
    "my_file = open(filepath)"
   ]
  },
  {
   "cell_type": "markdown",
   "id": "d3adca5a",
   "metadata": {},
   "source": [
    "Now the file is open, but we can't see the contents. If we just try to print the file, we'll get something unexpected... "
   ]
  },
  {
   "cell_type": "code",
   "execution_count": null,
   "id": "200939e3",
   "metadata": {},
   "outputs": [],
   "source": []
  },
  {
   "cell_type": "markdown",
   "id": "1abd93ac",
   "metadata": {},
   "source": [
    "Instead, in order to read the contents of the file, we can use the `read()` method. This will read the entire file and return the contents as a string."
   ]
  },
  {
   "cell_type": "code",
   "execution_count": null,
   "id": "1855ff78",
   "metadata": {},
   "outputs": [],
   "source": [
    "file_contents = my_file.read()\n",
    "print(file_contents)"
   ]
  },
  {
   "cell_type": "markdown",
   "id": "d9895815",
   "metadata": {},
   "source": [
    "Because we've already read the file, we can't read it again; the file is considered \"exhausted\". We can't read it again unless we close it and open it again, so make sure to store the data in a variable! "
   ]
  },
  {
   "cell_type": "code",
   "execution_count": null,
   "id": "51c2c782",
   "metadata": {},
   "outputs": [],
   "source": [
    "print(my_file.read())"
   ]
  },
  {
   "cell_type": "markdown",
   "id": "f3f23848",
   "metadata": {},
   "source": [
    "### Closing Files <a id='closing'></a>"
   ]
  },
  {
   "cell_type": "markdown",
   "id": "3d88dcbb",
   "metadata": {},
   "source": [
    "When you're done with a file, it's important to close it. This is because the file is still open in the background, and if you try to open it again, you may run into issues. You may also run into memory issues if you open too many files at once without closing them.\n",
    "\n",
    "To close a file, we can simply use the `close()` method. This will close the file and free up the memory that was being used to store the file."
   ]
  },
  {
   "cell_type": "code",
   "execution_count": null,
   "id": "08db49ef",
   "metadata": {},
   "outputs": [],
   "source": [
    "my_file.close()"
   ]
  },
  {
   "cell_type": "markdown",
   "id": "dec5a18b",
   "metadata": {},
   "source": [
    "### Context Management <a id='context'></a>"
   ]
  },
  {
   "cell_type": "markdown",
   "id": "56eac092",
   "metadata": {},
   "source": [
    "Remembering to close your file every time you open it is a pain. Fortunately, there is a clean way to deal with this. The Python `with` statement is known as a \"context manager\". \n",
    "\n",
    "As shown below, if you open a file using the `with` statement, Python will automatically close the file for you when you're done with it.\n",
    "\n",
    "This is the preferred way to open files in Python."
   ]
  },
  {
   "cell_type": "code",
   "execution_count": null,
   "id": "ea97c7ae",
   "metadata": {},
   "outputs": [],
   "source": [
    "# Open the file with a context manager\n",
    "with open('data/three_seq.txt') as file_handle:\n",
    "    file_contents2 = file_handle.readlines()\n",
    "\n",
    "# File is closed automatically!\n",
    "try:\n",
    "    print(file_handle.read())\n",
    "except ValueError as e:\n",
    "    print(e)"
   ]
  },
  {
   "cell_type": "markdown",
   "id": "f233cb76",
   "metadata": {},
   "source": [
    "Also, notice that we used the `readlines()` method instead of `read()`. This method reads the entire file and returns a list of strings, where each string is a line in the file."
   ]
  },
  {
   "cell_type": "code",
   "execution_count": null,
   "id": "2b052729",
   "metadata": {},
   "outputs": [],
   "source": [
    "print(file_contents2)"
   ]
  },
  {
   "cell_type": "markdown",
   "id": "a9661142",
   "metadata": {},
   "source": [
    "### String Manipulations <a id='string'></a>"
   ]
  },
  {
   "cell_type": "markdown",
   "id": "00bb3fc7",
   "metadata": {},
   "source": [
    "Let's investigate the data that we just read into `file_contents` from \"dna.txt\"."
   ]
  },
  {
   "cell_type": "code",
   "execution_count": null,
   "id": "e4429129",
   "metadata": {},
   "outputs": [],
   "source": [
    "print('The DNA sequence is', file_contents, 'and is', len(file_contents), 'bases long.')"
   ]
  },
  {
   "cell_type": "markdown",
   "id": "62a4e671",
   "metadata": {},
   "source": [
    "Output looks strange and the length is incorrect due to a hidden newline (`'\\n'`) character. The file we read in is actually 2 lines with the second line being blank. The `strip()` method removes any leading (spaces at the beginning) and trailing (spaces at the end) characters. By default, it removes space (`' '`) characters."
   ]
  },
  {
   "cell_type": "code",
   "execution_count": null,
   "id": "ff6cd875",
   "metadata": {},
   "outputs": [],
   "source": [
    "my_dna_strip = file_contents.strip()\n",
    "print('The DNA sequence is', my_dna_strip, 'and is', len(my_dna_strip), 'bases long.')"
   ]
  },
  {
   "cell_type": "markdown",
   "id": "985dca31",
   "metadata": {},
   "source": [
    "You can remove any other character by passing it as an argument to the `strip()` method."
   ]
  },
  {
   "cell_type": "code",
   "execution_count": null,
   "id": "e7ad527a",
   "metadata": {},
   "outputs": [],
   "source": [
    "new_dna = my_dna_strip.strip('A')\n",
    "print(new_dna)"
   ]
  },
  {
   "cell_type": "markdown",
   "id": "21c4253f",
   "metadata": {},
   "source": [
    "There are some more useful things we can do with strings, including finding and replacing text using the `replace()` method. The first argument to `replace()` is the pattern we are searching for in the string and the second argument is what we want to replace it with."
   ]
  },
  {
   "cell_type": "code",
   "execution_count": null,
   "id": "b5d6c058",
   "metadata": {},
   "outputs": [],
   "source": [
    "'this is a STRING'.replace('STRING', 'pizza')"
   ]
  },
  {
   "cell_type": "markdown",
   "id": "b3ef9453",
   "metadata": {},
   "source": [
    "We can use the `upper()` and `lower()` methods to make all characters in a string upper- or lower-case, respectively. Also, `swapcase()` switches all upper- and lower-case letters."
   ]
  },
  {
   "cell_type": "code",
   "execution_count": null,
   "id": "04b3395e",
   "metadata": {},
   "outputs": [],
   "source": [
    "print('lower2upper'.upper())\n",
    "print('UPPER2LOWER'.lower())\n",
    "print('cAmElCaSe'.swapcase())"
   ]
  },
  {
   "cell_type": "markdown",
   "id": "f2f3b213",
   "metadata": {},
   "source": [
    "Strings can be concatenated using the addition operator:"
   ]
  },
  {
   "cell_type": "code",
   "execution_count": null,
   "id": "2e4268bc",
   "metadata": {},
   "outputs": [],
   "source": [
    "'str' + 'ing'"
   ]
  },
  {
   "cell_type": "markdown",
   "id": "2ecb3907",
   "metadata": {},
   "source": [
    "Variables can be inserted into strings by first converting them into strings and then concatenating them:"
   ]
  },
  {
   "cell_type": "code",
   "execution_count": null,
   "id": "51e81e83",
   "metadata": {},
   "outputs": [],
   "source": [
    "my_name = 'John'\n",
    "my_age = 30\n",
    "print('My name is ' + my_name + ' and my age is ' + str(my_age) + '.')"
   ]
  },
  {
   "cell_type": "markdown",
   "id": "b86eddfe",
   "metadata": {},
   "source": [
    "As of Python 3.6, one of the easiest ways to format strings is using f-strings. This is done by placing an `f` before the string and using curly braces `{}` to insert variables. The variables will automatically be converted to strings."
   ]
  },
  {
   "cell_type": "code",
   "execution_count": null,
   "id": "5702c2ee",
   "metadata": {},
   "outputs": [],
   "source": [
    "print(f'My name is {my_name} and my age is {my_age}')"
   ]
  },
  {
   "cell_type": "markdown",
   "id": "d1e2dbad",
   "metadata": {},
   "source": [
    "You can even do some cool formatting tricks with f-strings, like rounding numbers to a certain number of decimal places:"
   ]
  },
  {
   "cell_type": "code",
   "execution_count": null,
   "id": "bfa2ddee",
   "metadata": {},
   "outputs": [],
   "source": [
    "mean_val = 3.14159\n",
    "print(f'The mean value is {mean_val:.2f}')"
   ]
  },
  {
   "cell_type": "markdown",
   "id": "de8c4a7b",
   "metadata": {},
   "source": [
    "Sometimes it is useful to check if a certain pattern is present within a string. Here is one way to do this:"
   ]
  },
  {
   "cell_type": "code",
   "execution_count": null,
   "id": "dd5be38b",
   "metadata": {},
   "outputs": [],
   "source": [
    "print('hi' in 'this is a test')\n",
    "print('ahoy' in 'this is a test')"
   ]
  },
  {
   "cell_type": "markdown",
   "id": "9db4ebf2",
   "metadata": {},
   "source": [
    "You can also use the `in` keyword to check if there is an item in a list or a key in a dictionary:"
   ]
  },
  {
   "cell_type": "code",
   "execution_count": null,
   "id": "7a5149b3",
   "metadata": {},
   "outputs": [],
   "source": [
    "my_list = [1, 2, 3, 4, 5]\n",
    "print(5 in my_list)\n",
    "\n",
    "my_dict = {'name': 'John', 'age': 30}\n",
    "print('name' in my_dict)"
   ]
  },
  {
   "cell_type": "markdown",
   "id": "2b05b8dd",
   "metadata": {},
   "source": [
    "### Working with Multiple Files <a id='multiple'></a>"
   ]
  },
  {
   "cell_type": "markdown",
   "id": "e875f1f7",
   "metadata": {},
   "source": [
    "To go from reading a single file to reading multiple files, use a `for` loop.\n",
    "\n",
    "We'll start getting all the file names in a directory. We can do this using the `os` module and the `listdir` function."
   ]
  },
  {
   "cell_type": "code",
   "execution_count": null,
   "id": "ddc49046",
   "metadata": {},
   "outputs": [],
   "source": [
    "import os\n",
    "\n",
    "data_dir = 'data/gene_sets'\n",
    "files = os.listdir(data_dir)\n",
    "files"
   ]
  },
  {
   "cell_type": "markdown",
   "id": "125c22d1",
   "metadata": {},
   "source": [
    "We want to read the hallmark gene sets, however there is also a 'junk' file that we do not want to read. This often occurs if you use a program that stores temporary files.\n",
    "\n",
    "We will use a filter to get only the files with the extension we want:"
   ]
  },
  {
   "cell_type": "code",
   "execution_count": null,
   "id": "d2bcab19",
   "metadata": {},
   "outputs": [],
   "source": [
    "gene_set_files = []\n",
    "for file in files:\n",
    "    if '.grp' in file:\n",
    "        gene_set_files.append(file)\n",
    "\n",
    "gene_set_files"
   ]
  },
  {
   "cell_type": "markdown",
   "id": "5b8b4854",
   "metadata": {},
   "source": [
    "To do this, we initialized an empty list and used a nested `if` statement within a `for` loop to append to the list only under a certain condition: if a file name included the extension we want to read.\n",
    "\n",
    "This is a lot of boilerplate, however there is a better way: list comprehensions.\n",
    "\n",
    "List comprehensions are a way to create lists in Python. They are a more concise way to create lists than using a `for` loop. They are also faster than using a `for` loop. We can write a list comprehension for the same task as above:"
   ]
  },
  {
   "cell_type": "code",
   "execution_count": null,
   "id": "2d0b7851",
   "metadata": {},
   "outputs": [],
   "source": [
    "gene_set_files = [f for f in files if ('.grp' in f)]\n",
    "gene_set_files"
   ]
  },
  {
   "cell_type": "markdown",
   "id": "04d3b9f4",
   "metadata": {},
   "source": [
    "List comprehensions are just shorthand for a `for` loop that populates a list. You can use them to shorten some `for` loops, like the one above.\n",
    "\n",
    "Here are some more examples of list comprehensions:"
   ]
  },
  {
   "cell_type": "code",
   "execution_count": null,
   "id": "5b936512",
   "metadata": {
    "tags": []
   },
   "outputs": [],
   "source": [
    "# List comprehension with string manipulation.\n",
    "[f'This is a {string}' for string in ['mouse', 'moose', 'pipette']]"
   ]
  },
  {
   "cell_type": "code",
   "execution_count": null,
   "id": "68f4f700",
   "metadata": {},
   "outputs": [],
   "source": [
    "# List comprehension with arithmetic.\n",
    "numbers = [1, 2, 3, 4, 5]\n",
    "mean = sum(numbers) / len(numbers)\n",
    "[number - mean for number in numbers]"
   ]
  },
  {
   "cell_type": "markdown",
   "id": "24827e55",
   "metadata": {},
   "source": [
    "When in doubt, you can always write a list comprehension as a full `for` loop. \n",
    "\n",
    "Let's read in all the gene sets. But first, let's define a helper function that reads in a file and returns the contents as a list of strings."
   ]
  },
  {
   "cell_type": "code",
   "execution_count": null,
   "id": "8ad56b71",
   "metadata": {},
   "outputs": [],
   "source": [
    "def file_reader(filepath):\n",
    "    with open(filepath) as file_handle:\n",
    "        return file_handle.readlines()"
   ]
  },
  {
   "cell_type": "markdown",
   "id": "67aca5eb",
   "metadata": {},
   "source": [
    "Now we can use this function and list comprehensions to read in all the gene sets."
   ]
  },
  {
   "cell_type": "code",
   "execution_count": null,
   "id": "b3a8c276",
   "metadata": {},
   "outputs": [],
   "source": [
    "gene_sets = [file_reader(data_dir + '/' + file) for file in gene_set_files]"
   ]
  },
  {
   "cell_type": "code",
   "execution_count": null,
   "id": "b907e01e",
   "metadata": {},
   "outputs": [],
   "source": [
    "gene_sets[0][:5]"
   ]
  },
  {
   "cell_type": "markdown",
   "id": "77e1341e",
   "metadata": {},
   "source": [
    "The gene sets each actually contain the gene set name and a url as the first two elements. The rest of the list consists of genes in the set. We want to filter the lists to contain only the genes of interest. Let's use list comprehensions to do 3 things: remove the newline characters, extract and store the gene set names, and extract the 2nd to the last elements of each list:"
   ]
  },
  {
   "cell_type": "code",
   "execution_count": null,
   "id": "ed3e7634",
   "metadata": {},
   "outputs": [],
   "source": [
    "# Remove the newline character from each gene name.\n",
    "\n",
    "# Extract the gene set name.\n",
    "\n",
    "# Remove the gene set name and url from the gene list."
   ]
  },
  {
   "cell_type": "code",
   "execution_count": null,
   "id": "4719a835",
   "metadata": {},
   "outputs": [],
   "source": [
    "gene_set_names"
   ]
  },
  {
   "cell_type": "markdown",
   "id": "3097e19d",
   "metadata": {},
   "source": [
    "### Sneak Peak at Visualization"
   ]
  },
  {
   "cell_type": "markdown",
   "id": "8adf089d",
   "metadata": {},
   "source": [
    "Now that we've read the gene sets, we can use them to calculate how much a cell is expressing the genes in each set. Then, we can visualize the expression of these genes in different cell populations.\n",
    "\n",
    "*Note: this section will use some packages and code that you have not encountered. That's okay--you don't have to understand all of it. The goal is just so you can see how you might use these files as part of a larger project.*"
   ]
  },
  {
   "cell_type": "code",
   "execution_count": null,
   "id": "24035357",
   "metadata": {},
   "outputs": [],
   "source": [
    "import scanpy as sc\n",
    "\n",
    "data = sc.datasets.pbmc3k_processed()\n",
    "for gene_set, gene_set_name in zip(gene_sets, gene_set_names):\n",
    "    sc.tl.score_genes(data, gene_set, score_name = gene_set_name)\n",
    "\n",
    "sc.tl.pca(data)\n",
    "sc.pl.pca(data, color = ['louvain'] + gene_set_names, ncols = 2, \n",
    "          vmin = 'p1.5', vmax = 'p97.5')"
   ]
  },
  {
   "cell_type": "markdown",
   "id": "4ed76bb8",
   "metadata": {},
   "source": [
    "The gene sets are able to help us visualize what kinds of cellular processes are occurring in different immune cell types. For example, we find that NK and dendritic cells have the highest inflammatory responses, while CD4 T cells have the highest expression of G2M checkpoint genes."
   ]
  },
  {
   "cell_type": "markdown",
   "id": "b8fa6133",
   "metadata": {},
   "source": [
    "### In-Class Exercises <a id='exercises'></a>"
   ]
  },
  {
   "cell_type": "markdown",
   "id": "e2e4dab3",
   "metadata": {},
   "source": [
    "1. Read in the DNA sequence from 'dna.txt' and convert all nucleotides to lowercase."
   ]
  },
  {
   "cell_type": "code",
   "execution_count": null,
   "id": "695232ea",
   "metadata": {},
   "outputs": [],
   "source": []
  },
  {
   "cell_type": "markdown",
   "id": "064b7fc2",
   "metadata": {},
   "source": [
    "2. Read in the sequences in 'seq_list.txt' and then use f-strings to append a poly-A tail to each sequence."
   ]
  },
  {
   "cell_type": "code",
   "execution_count": null,
   "id": "77fce753",
   "metadata": {},
   "outputs": [],
   "source": []
  },
  {
   "cell_type": "markdown",
   "id": "7ec9bbf8",
   "metadata": {},
   "source": [
    "3. Use string manipulation to get rid of the version numbers and file extensions in `gene_set_files`. The output should be identical to `gene_set_names`."
   ]
  },
  {
   "cell_type": "code",
   "execution_count": null,
   "id": "7a168d51",
   "metadata": {},
   "outputs": [],
   "source": []
  },
  {
   "cell_type": "markdown",
   "id": "50134d9c",
   "metadata": {},
   "source": [
    "4. Use string manipulation and list comprehensions to remove the `'HALLMARK_'` prefix on the file names."
   ]
  },
  {
   "cell_type": "code",
   "execution_count": null,
   "id": "2c61f009",
   "metadata": {},
   "outputs": [],
   "source": []
  }
 ],
 "metadata": {
  "kernelspec": {
   "display_name": "Python 3 (ipykernel)",
   "language": "python",
   "name": "python3"
  },
  "language_info": {
   "codemirror_mode": {
    "name": "ipython",
    "version": 3
   },
   "file_extension": ".py",
   "mimetype": "text/x-python",
   "name": "python",
   "nbconvert_exporter": "python",
   "pygments_lexer": "ipython3",
   "version": "3.10.14"
  },
  "widgets": {
   "application/vnd.jupyter.widget-state+json": {
    "state": {},
    "version_major": 2,
    "version_minor": 0
   }
  }
 },
 "nbformat": 4,
 "nbformat_minor": 5
}
