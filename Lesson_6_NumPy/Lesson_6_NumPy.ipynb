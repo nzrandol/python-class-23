{
 "cells": [
  {
   "cell_type": "markdown",
   "metadata": {},
   "source": [
    "[![Open In Colab](https://colab.research.google.com/assets/colab-badge.svg)](https://colab.research.google.com/github/How-to-Learn-to-Code/python-class/blob/master/Lesson_6_NumPy/Lesson_6_NumPy.ipynb)"
   ]
  },
  {
   "cell_type": "markdown",
   "metadata": {},
   "source": [
    "# Lesson 6: NumPy"
   ]
  },
  {
   "cell_type": "markdown",
   "metadata": {},
   "source": [
    "## Learning Objectives: \n",
    "\n",
    "Students will be introduced to `numpy` and learn to take advantage of its efficient data manipulation and numerical processing. \n",
    "\n",
    "* [Introduction to `numpy` and Scientific Computing](#intro)\n",
    "* [Efficiency of `numpy`](#efficiency)\n",
    "* [Understanding the `numpy.array`](#array)\n",
    "* [More NumPy Functions](#functions)\n",
    "* [In-Class Exercises](#exercises)\n",
    "\n",
    "Find more details in the [NumPy Documentation](https://numpy.org/doc/stable/reference/index.html)!"
   ]
  },
  {
   "cell_type": "markdown",
   "metadata": {},
   "source": [
    "### Introduction to `numpy` and Scientific Computing <a id='intro'></a>"
   ]
  },
  {
   "cell_type": "markdown",
   "metadata": {},
   "source": [
    "The Python package `numpy` is an indespensible tool for efficient data manipulation and numerical processing. \n",
    "It is a highly curated and tested collection of functions centered around the manipulation of their proprietary data type, the `numpy.array`. \n",
    "The `numpy.array` is similar to the standard `list` type, but it has some important differences that make it particularly useful for generic vector and matrix algebra and element-wise data manipulation.\n",
    "\n",
    "[NumPy](https://numpy.org/) is the foundational Python package for scientific computing.\n",
    "Scientific computing encompasses any tools, functions, or algorithms that are used to generate or simulate mathematical models and problems. \n",
    "Python in its base form is fine for some data manipulation with support for generic algorithm construction (e.g. loops and function declaration), but as soon as you need to do any mathematics, especially on a large scale (e.g. large data sets), generic Python falls short with respect to efficient built-in functionality.\n",
    "NumPy is a heavily curated and tested package that contains thousands, if not hundreds of thousands, of useful functions for generic mathematical manipulation of your data.\n",
    "This includes general mathematics, like the natural logarithm, as well as general statistics, like variance and quantiles.\n",
    "These included functions are also very efficient with respect to computational time and memory, so they should be used whenever possible.\n",
    "\n",
    "We'll start by installing the `numpy` package and importing it into our notebook."
   ]
  },
  {
   "cell_type": "code",
   "execution_count": null,
   "metadata": {},
   "outputs": [],
   "source": [
    "%pip install numpy"
   ]
  },
  {
   "cell_type": "code",
   "execution_count": null,
   "metadata": {},
   "outputs": [],
   "source": [
    "# np is the standard abbreviation for numpy\n",
    "import numpy as np "
   ]
  },
  {
   "cell_type": "markdown",
   "metadata": {},
   "source": [
    "### Efficiency of `numpy` <a id='efficiency'></a>"
   ]
  },
  {
   "cell_type": "markdown",
   "metadata": {},
   "source": [
    "Part of `numpy`'s efficiency comes from the fact that the algorithms used behind the scenes are tuned to be as efficient as possible by dedicated computer scientists.\n",
    "Another reason that the code is efficient is that large chunks of the code are written in *C* and *C++* rather than in Python.\n",
    "A pre-compiled *C* or *C++* function is called by NumPy to execute your code, and the results are passed back to you in Python. \n",
    "It is not necessarily important to understand why this is more efficient, but it is important to point out that it is done in this manner because it is more efficient than strictly using Python.\n",
    "They are playing 4-dimensional chess while you are playing checkers, metaphorically, so there is no use in reinventing the wheel with respect to creating homemade functions.\n",
    "\n",
    "A final reason that NumPy is so efficient is the introduction of the `numpy.array`.\n",
    "The `numpy.array` is a generic $n$-dimensional array object.\n",
    "The easiest way to think about it is that a `numpy.array` is an $n$-dimensional matrix which can be used to store and manipulate your data or just do simple matrix and vector algebra.\n",
    "The reason this object is more efficient than the standard Python `list` is how the memory is stored in each case.\n",
    "In a standard `list` all of the members are stored in random spots in memory, so when they need to be accessed, the computer has to search around for them.\n",
    "In a `numpy.array` all of the data points are stored in sequential memory.\n",
    "This means that if you are at a point in your array, `my_array[a][b][c]`, and want to access the adjacent piece of data, `my_array[a][b][c + 1]`, the computer can just access the adjacent memory address instead of searching through all of the memory for the correct piece of data.\n",
    "In the previous example, `my_array` designates a 3-dimensional array, as seen by the three different indexes following the `my_array` call.\n",
    "Most functions in NumPy are built around manipulating these objects and are coded in such a way as to take advantage of the memory allocation in an optimal way, making them very efficient.\n",
    "\n",
    "In order to demonstrate the power of NumPy, we can start with the standard dot product. In the code block below, we generate two vectors of length 10,000 and store them in `numpy.array` objects and `list` objects. We create a generic function, `my_dot_0`, that takes the dot product of two input vectors using a standard for loop. We then time the output.  "
   ]
  },
  {
   "cell_type": "code",
   "execution_count": null,
   "metadata": {},
   "outputs": [],
   "source": [
    "# This example uses the np.random package so setting the seed ensures\n",
    "# we get the same result every time we run this block.\n",
    "np.random.seed(5)\n",
    "        \n",
    "# Generic function to compute a dot product with any array-like object\n",
    "def my_dot_0(a0, a1):\n",
    "    dot = 0\n",
    "    for i in range(len(a0)):\n",
    "        dot += a0[i] * a1[i]\n",
    "    return dot\n",
    "\n",
    "# Create the vectors as numpy arrays\n",
    "# np.random.randn gets a sample from the normal distribution with value\n",
    "# in the parentheses indicating the size of the array you want\n",
    "A_arr = np.random.randn(10000)\n",
    "B_arr = np.random.randn(10000)\n",
    "\n",
    "# Copy the vectors as lists\n",
    "A_list = list(A_arr)\n",
    "B_list = list(B_arr)\n",
    "\n",
    "# %timeit is a built-in Jupyter Notebook function for timing functions easily\n",
    "# -n 10 is a statement about how many runs it will use for the time output\n",
    "# tmp is a placeholder variable to prevent output clutter\n",
    "print(\"list time for my_dot_0:\")\n",
    "%timeit -n 10 tmp = my_dot_0(A_list, B_list)\n",
    "print(\"\\nnp.array time for my_dot_0:\")\n",
    "%timeit -n 10 tmp = my_dot_0(A_arr, B_arr)"
   ]
  },
  {
   "cell_type": "markdown",
   "metadata": {},
   "source": [
    "In a surprise result, seemingly contrary to everything previously stated, the `list` manipulation came out faster than the manipulation using the `numpy.array`. \n",
    "The caveat is that the `numpy.array` object is built for speed when used with NumPy's built-in functions. \n",
    "We can try the test again, but this time we use some built-in functions from NumPy to clean up the function definition and improve our results, hopefully."
   ]
  },
  {
   "cell_type": "code",
   "execution_count": null,
   "metadata": {},
   "outputs": [],
   "source": [
    "# Using built in NumPy functions:\n",
    "# - np.multiply does element-wise multiplication\n",
    "# - np.sum adds the elements of the array together \n",
    "def my_dot_1(a0, a1):\n",
    "    return np.sum(np.multiply(a0, a1))\n",
    "\n",
    "print(\"list time for my_dot_1:\")\n",
    "%timeit -n 10 tmp = my_dot_1(A_list, B_list)\n",
    "print(\"\\nnp.array time for my_dot_1:\")\n",
    "%timeit -n 10 tmp = my_dot_1(A_arr, B_arr)"
   ]
  },
  {
   "cell_type": "markdown",
   "metadata": {},
   "source": [
    "That's more like it! \n",
    "Notice that the `list` speed sees some improvement using the built in NumPy functions as well, but certainly not as much as the `numpy.array`. \n",
    "In general the NumPy functions can handle generic `list` types, but the full potential is unlocked with the `numpy.array` type.\n",
    "For this final speed test, we can use the the totally pre-built `numpy.dot` function and check out the speed."
   ]
  },
  {
   "cell_type": "code",
   "execution_count": null,
   "metadata": {},
   "outputs": [],
   "source": [
    "print(\"list time for np.dot:\")\n",
    "%timeit -n 10 tmp = np.dot(A_list, B_list)\n",
    "print(\"\\nnp.array time for np.dot:\")\n",
    "%timeit -n 10 tmp = np.dot(A_arr, B_arr)"
   ]
  },
  {
   "cell_type": "markdown",
   "metadata": {},
   "source": [
    "Will you look at that! \n",
    "The totally pre-built function is even faster than our last test with the two different functions. \n",
    "Notice that the `list` test really struggles, comparitively, with this function. \n",
    "Together, all of these speed tests should highlight:\n",
    "1. NumPy functions are very efficient.\n",
    "2. NumPy functions are relatively easy to use and clean up your code.\n",
    "3. NumPy functions work best with `numpy.array` objects.\n",
    "4. If you can find a NumPy function to handle your `numpy.array` objects, you should use it rather than trying to build your own function."
   ]
  },
  {
   "cell_type": "markdown",
   "metadata": {},
   "source": [
    "### Understanding the `numpy.array` <a id='array'></a>"
   ]
  },
  {
   "cell_type": "markdown",
   "metadata": {},
   "source": [
    "Now that we know why we should use the humble `numpy.array`, we should probably learn how to use this object.\n",
    "As mentioned previously is, it is very similar to your standard `list` with a few built-in features that make it easier to use in a numerical sense.\n",
    "The first feature is crucial: unlike a `list` all of the rows/columns should have the same length, like any matrix you would normally deal with.\n",
    "This means that `numpy.array` are best suited for doing data manipulation and calculations on data that would fit into a traditional $n$-dimensional matrix. \n",
    "Below is an example of a data set that is fine in a `list` but should be avoided in a `numpy.array`.\n",
    "Depending on your Python version, it will either throw an error or a warning that this functionality is deprecated (outdated, no longer supported)."
   ]
  },
  {
   "cell_type": "code",
   "execution_count": null,
   "metadata": {},
   "outputs": [],
   "source": [
    "my_list = [[0, 1, 1], [2, 3]]\n",
    "print(my_list)\n",
    "my_matrix = np.array(my_list)"
   ]
  },
  {
   "cell_type": "markdown",
   "metadata": {},
   "source": [
    "Now that we know what data works best in a `numpy.array`, we can look into how to build these arrays.\n",
    "First, we will look at a few different ways to make a 2x3x3 matrix that is filled with 0s.\n",
    "\n",
    "1. We can use `np.zeros` to create an array of 0s with the shape you specify."
   ]
  },
  {
   "cell_type": "code",
   "execution_count": null,
   "metadata": {},
   "outputs": [],
   "source": []
  },
  {
   "cell_type": "markdown",
   "metadata": {},
   "source": [
    "2. We can create one directly from a list of lists. (This can be difficult to read and error prone.)"
   ]
  },
  {
   "cell_type": "code",
   "execution_count": null,
   "metadata": {},
   "outputs": [],
   "source": []
  },
  {
   "cell_type": "markdown",
   "metadata": {},
   "source": [
    "3. We create one from a list of 0s and then reshape it to the shape we want. (This is also error prone.)"
   ]
  },
  {
   "cell_type": "code",
   "execution_count": null,
   "metadata": {},
   "outputs": [],
   "source": []
  },
  {
   "cell_type": "markdown",
   "metadata": {},
   "source": [
    "Let's use the built-in `shape` attribute of the arrays to check their dimensions."
   ]
  },
  {
   "cell_type": "code",
   "execution_count": null,
   "metadata": {},
   "outputs": [],
   "source": [
    "print(f'a0 shape = {a0.shape}, a1 shape = {a1.shape}, a2 shape = {a2.shape}')"
   ]
  },
  {
   "cell_type": "markdown",
   "metadata": {},
   "source": [
    "We can use the `ndim` attribute to check the number of dimensions of an array."
   ]
  },
  {
   "cell_type": "code",
   "execution_count": null,
   "metadata": {},
   "outputs": [],
   "source": [
    "print(f'The above arrays have dimension {a0.ndim}.')"
   ]
  },
  {
   "cell_type": "markdown",
   "metadata": {},
   "source": [
    "Another useful function is `np.arange`, which is similar to the built-in `range` function in Python, but it returns a `numpy.array` instead of a `list`."
   ]
  },
  {
   "cell_type": "code",
   "execution_count": null,
   "metadata": {},
   "outputs": [],
   "source": []
  },
  {
   "cell_type": "markdown",
   "metadata": {},
   "source": [
    "As we saw earlier, `reshape` function is useful for changing the shape of an array. It changes the array by filling each row with the data until it is full, then moving to the next row."
   ]
  },
  {
   "cell_type": "code",
   "execution_count": null,
   "metadata": {},
   "outputs": [],
   "source": []
  },
  {
   "cell_type": "markdown",
   "metadata": {},
   "source": [
    "The `np.linspace` function is useful for creating an array of evenly spaced numbers over a specified interval. The function takes three arguments: the start of the interval, the end of the interval, and the number of points to generate. Unlike `np.arange`, the `np.linspace` function includes the end of the interval in the array."
   ]
  },
  {
   "cell_type": "code",
   "execution_count": null,
   "metadata": {},
   "outputs": [],
   "source": []
  },
  {
   "cell_type": "markdown",
   "metadata": {},
   "source": [
    "### More NumPy Functions <a id='functions'></a>"
   ]
  },
  {
   "cell_type": "markdown",
   "metadata": {},
   "source": [
    "At some point, it might also be helpful to sort data within an array, find specific instances of things within an array, delete rows or columns, or add data. \n",
    "This can all be done using NumPy's built-in functions as well. \n",
    "In the following examples, we will try to use NumPy to manipulate a data set in a way that would be potentially be useful for your own data. \n",
    "We can also run some simple statistics for fun!"
   ]
  },
  {
   "cell_type": "markdown",
   "metadata": {},
   "source": [
    "First, let's generate a 5x30 array full of normally distributed random numbers:"
   ]
  },
  {
   "cell_type": "code",
   "execution_count": null,
   "metadata": {},
   "outputs": [],
   "source": []
  },
  {
   "cell_type": "markdown",
   "metadata": {},
   "source": [
    "And then pretend that one of the data points was missing, or NaN (Not a Number):"
   ]
  },
  {
   "cell_type": "code",
   "execution_count": null,
   "metadata": {},
   "outputs": [],
   "source": []
  },
  {
   "cell_type": "markdown",
   "metadata": {},
   "source": [
    "Often we'll want to be able to find that Nan value and replace it with something else.\n",
    "A useful function will be `np.isnan` that returns an array of the same size but with all NaN set to `True` and everything else set to `False`.\n",
    "`np.where` generates a tuple of arrays that show where the `True`s are located. The first array in the tuple is the row index and the second array is the column index.\n"
   ]
  },
  {
   "cell_type": "code",
   "execution_count": null,
   "metadata": {},
   "outputs": [],
   "source": []
  },
  {
   "cell_type": "markdown",
   "metadata": {},
   "source": [
    "You can also use `np.where` with any generic conditional statement to find the locations of the `True` values:"
   ]
  },
  {
   "cell_type": "code",
   "execution_count": null,
   "metadata": {},
   "outputs": [],
   "source": []
  },
  {
   "cell_type": "markdown",
   "metadata": {},
   "source": [
    "We could print out the ordered pairs of where the NaNs are located:"
   ]
  },
  {
   "cell_type": "code",
   "execution_count": null,
   "metadata": {},
   "outputs": [],
   "source": []
  },
  {
   "cell_type": "markdown",
   "metadata": {},
   "source": [
    "Since the NaN would mess up our data and subsequent calculations, we may want to delete the row it is located in:"
   ]
  },
  {
   "cell_type": "code",
   "execution_count": null,
   "metadata": {},
   "outputs": [],
   "source": []
  },
  {
   "cell_type": "markdown",
   "metadata": {},
   "source": [
    "Similarly, we could remove the column instead"
   ]
  },
  {
   "cell_type": "code",
   "execution_count": null,
   "metadata": {},
   "outputs": [],
   "source": []
  },
  {
   "cell_type": "markdown",
   "metadata": {},
   "source": [
    "Another common approach is to replace the NaN with specific value, often 0. We'll use `np.where` again to help us with this. Unlike the previous `np.where` usage, we can also use it do a replacement. Here we tell NumPy to create an array with the same size as `a0`; but wherever `a0` has a NaN, we replace it with 0, and everywhere else we keep the original value."
   ]
  },
  {
   "cell_type": "code",
   "execution_count": null,
   "metadata": {},
   "outputs": [],
   "source": []
  },
  {
   "cell_type": "markdown",
   "metadata": {},
   "source": [
    "Let's plot some of the data we generated. We'll use the `matplotlib` package to do this. (You'll get a more in-depth look at `matplotlib` in the next lesson.)\n",
    "First, we install and import the package."
   ]
  },
  {
   "cell_type": "code",
   "execution_count": null,
   "metadata": {},
   "outputs": [],
   "source": [
    "%pip install matplotlib\n",
    "import matplotlib.pyplot as plt"
   ]
  },
  {
   "cell_type": "markdown",
   "metadata": {},
   "source": [
    "Let's plot the distribution of the 2nd and 4th rows. We'll extract the rows using standard indexing and take the transpose of the data so that the `plt.hist` function will read the data correctly"
   ]
  },
  {
   "cell_type": "code",
   "execution_count": null,
   "metadata": {},
   "outputs": [],
   "source": [
    "# First argument is the data, second argument is the bins\n",
    "hist = plt.hist(np.transpose(replace_nan[[1, 3]]), [-3, -2, -1, 0, 1, 2, 3])\n",
    "plt.legend([\"$2^{nd}$ row\", \"$4^{th}$ row\"])"
   ]
  },
  {
   "cell_type": "markdown",
   "metadata": {},
   "source": [
    "We can also compute the mean and variance as well to see if it matches the expected values (0 and 1, respectively)."
   ]
  },
  {
   "cell_type": "code",
   "execution_count": null,
   "metadata": {},
   "outputs": [],
   "source": [
    "mean = np.mean(replace_nan[[1 ,3]], axis=1)\n",
    "variance = np.var(replace_nan[[1, 3]], axis=1)\n",
    "rows = [2, 4]\n",
    "for i in range(2):\n",
    "    print(f'row {rows[i]}: mean = {mean[i]:.5f} and variance = {variance[i]:.5f}')"
   ]
  },
  {
   "cell_type": "markdown",
   "metadata": {},
   "source": [
    "### In-Class Exercises <a id='exercises'></a>"
   ]
  },
  {
   "cell_type": "markdown",
   "metadata": {},
   "source": [
    "In these exercises, we will walk through some of the stuff we have covered previously and introduce some new helper functions that should be useful for most people.\n",
    "\n",
    "Let's pretend that we are sampling our data every 0.01 s between 0.0 s and 1.0 s. This makes time independent variable space. Create a `numpy.array` that represents the time data `t`."
   ]
  },
  {
   "cell_type": "code",
   "execution_count": null,
   "metadata": {},
   "outputs": [],
   "source": []
  },
  {
   "cell_type": "markdown",
   "metadata": {},
   "source": [
    "Now that we have generated our independent variable, we can specify what we expect dependent variable to look like. \n",
    "In our case, let's pretend our dependent variable is expected position, *y*, given a time value, *t*, from our time domain and is modelled as:\n",
    "$$y = 0.5 e^{t^2} + 1.5$$\n",
    "Create a `numpy.array` that represents this expected position data `y_expected`."
   ]
  },
  {
   "cell_type": "code",
   "execution_count": null,
   "metadata": {},
   "outputs": [],
   "source": []
  },
  {
   "cell_type": "markdown",
   "metadata": {},
   "source": [
    "We can plot the expected position data using `matplotlib`."
   ]
  },
  {
   "cell_type": "code",
   "execution_count": null,
   "metadata": {},
   "outputs": [],
   "source": [
    "# Plot expected curve\n",
    "fig = plt.plot(t, y_expected)\n",
    "plt.title('Expected Position Curve')\n",
    "plt.xlabel('Time')\n",
    "plt.ylabel('Position')"
   ]
  },
  {
   "cell_type": "markdown",
   "metadata": {},
   "source": [
    "Now that we have our expected value, we can simulate noise in our data. \n",
    "We will do this through introducing random values such that the average should replicate our data.\n",
    "Below we have *N* represent the normal distribution.\n",
    "Use the following transformation to transform the output of `np.random.randn` (a standard normal N(mean=0, var=1)) to the correct Normal distribution space:\n",
    "$$N'(\\mu, \\sigma^2) = \\mu + \\sigma * N(0, 1)$$\n",
    "\n",
    "We will generate 50 random samples of the same length as our *t* vector using:\n",
    "$$t_{rand} = t * N_{mult}(\\mu = 1, \\sigma^2 = 0.001) + N_{add}(\\mu = 0, \\sigma^2 = 0.005)$$\n",
    "\n",
    "First create N_mult and N_add using `np.random.randn` and the transformation above."
   ]
  },
  {
   "cell_type": "code",
   "execution_count": null,
   "metadata": {},
   "outputs": [],
   "source": [
    "# Create the two random arrays of shape 50 x length of the time domain"
   ]
  },
  {
   "cell_type": "markdown",
   "metadata": {},
   "source": [
    "Now create the random time data `t_rand` using the formula above."
   ]
  },
  {
   "cell_type": "code",
   "execution_count": null,
   "metadata": {},
   "outputs": [],
   "source": [
    "# The linear transformation of a * t + b, but using the appropriate NumPy syntax"
   ]
  },
  {
   "cell_type": "markdown",
   "metadata": {},
   "source": [
    "Now that we have our random time data, we can generate our random position data `y_rand` using the same formula as before:\n",
    "$$y_{rand} = 0.5 e^{t_{rand}^2} + 1.5$$"
   ]
  },
  {
   "cell_type": "code",
   "execution_count": null,
   "metadata": {},
   "outputs": [],
   "source": []
  },
  {
   "cell_type": "markdown",
   "metadata": {},
   "source": [
    "Find the mean, max, and min of the random position data at each time step. Hint: use the appropriate NumPy functions and `axis=0` argument."
   ]
  },
  {
   "cell_type": "code",
   "execution_count": null,
   "metadata": {},
   "outputs": [],
   "source": []
  },
  {
   "cell_type": "code",
   "execution_count": null,
   "metadata": {},
   "outputs": [],
   "source": [
    "# This will plot the random generated data\n",
    "fig = plt.plot(t, y_expected, 'k--', t, y_avg, 'r')\n",
    "plt.fill_between(t, y_min, y_max, alpha=0.3)\n",
    "plt.legend(['Expected', 'Generated Mean', 'Min/Max Range'], loc='upper left')\n",
    "plt.xlabel('Time')\n",
    "plt.ylabel('Position')\n",
    "plt.title('Expected and Random Position Curves')"
   ]
  },
  {
   "cell_type": "markdown",
   "metadata": {},
   "source": [
    "Let's pretend that the 8th and 23rd sampled time series were done by a trainee that had set the sample frequency to be a little too slow. Remove these two samples from the data set."
   ]
  },
  {
   "cell_type": "code",
   "execution_count": null,
   "metadata": {},
   "outputs": [],
   "source": [
    "print(f'The number of samples left after removing the bad trainee data is: {y_data.shape[0]}.')"
   ]
  },
  {
   "cell_type": "markdown",
   "metadata": {},
   "source": [
    "Pretend that we're also limited by our instruments in that they are unreliable when the position is greater than 3.25. Remove any samples that reached more than 3.25 at any time in the experiment."
   ]
  },
  {
   "cell_type": "code",
   "execution_count": null,
   "metadata": {},
   "outputs": [],
   "source": [
    "print(f'The number of samples left after removing the data with position > 3.25 is: {y_data.shape[0]}.')"
   ]
  },
  {
   "cell_type": "markdown",
   "metadata": {},
   "source": [
    "Let's replot the data to see how it looks now."
   ]
  },
  {
   "cell_type": "code",
   "execution_count": null,
   "metadata": {},
   "outputs": [],
   "source": [
    "y_max = np.max(y_data, axis=0)\n",
    "y_min = np.min(y_data, axis=0)\n",
    "y_avg = np.mean(y_data, axis=0)\n",
    "fig = plt.plot(t, y_expected, 'k--', t, y_avg, 'r')\n",
    "plt.fill_between(t, y_min, y_max, alpha = 0.3)\n",
    "plt.legend(['Expected', 'Filtered Mean', 'Min/Max Range'], loc='upper left')\n",
    "plt.xlabel('Time')\n",
    "plt.ylabel('Position')\n",
    "plt.title('Expected and Filtered Position Curves')"
   ]
  },
  {
   "cell_type": "markdown",
   "metadata": {
    "collapsed": true
   },
   "source": [
    "Here is a website that goes through a good sample of [NumPy problems](https://www.w3schools.com/python/numpy/numpy_exercises.asp). \n",
    "It covers some functions that this lesson did not explicitly cover as this lesson tried to introduce some more advanced attributes of NumPy that might be immediately relevant for your data processing."
   ]
  }
 ],
 "metadata": {
  "anaconda-cloud": {},
  "kernelspec": {
   "display_name": "Python 3",
   "language": "python",
   "name": "python3"
  },
  "language_info": {
   "codemirror_mode": {
    "name": "ipython",
    "version": 3
   },
   "file_extension": ".py",
   "mimetype": "text/x-python",
   "name": "python",
   "nbconvert_exporter": "python",
   "pygments_lexer": "ipython3",
   "version": "3.12.3"
  },
  "toc": {
   "colors": {
    "hover_highlight": "#DAA520",
    "navigate_num": "#000000",
    "navigate_text": "#333333",
    "running_highlight": "#FF0000",
    "selected_highlight": "#FFD700",
    "sidebar_border": "#EEEEEE",
    "wrapper_background": "#FFFFFF"
   },
   "moveMenuLeft": true,
   "nav_menu": {
    "height": "104px",
    "width": "251px"
   },
   "navigate_menu": true,
   "number_sections": true,
   "sideBar": true,
   "threshold": 4,
   "toc_cell": false,
   "toc_section_display": "block",
   "toc_window_display": false,
   "widenNotebook": false
  }
 },
 "nbformat": 4,
 "nbformat_minor": 1
}
